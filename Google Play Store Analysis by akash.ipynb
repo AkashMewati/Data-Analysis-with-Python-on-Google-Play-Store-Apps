{
 "cells": [
  {
   "cell_type": "code",
   "execution_count": 173,
   "id": "ec8462ac",
   "metadata": {},
   "outputs": [],
   "source": [
    "import pandas as pd\n",
    "import numpy as np\n",
    "import seaborn as sns\n",
    "from matplotlib import pyplot as plt\n",
    "import os "
   ]
  },
  {
   "cell_type": "code",
   "execution_count": 2,
   "id": "241a0ee4",
   "metadata": {},
   "outputs": [
    {
     "data": {
      "text/plain": [
       "'C:\\\\Users\\\\Dell'"
      ]
     },
     "execution_count": 2,
     "metadata": {},
     "output_type": "execute_result"
    }
   ],
   "source": [
    "# here we are checking the current working directory \n",
    "os.getcwd()"
   ]
  },
  {
   "cell_type": "code",
   "execution_count": 3,
   "id": "c4b65025",
   "metadata": {},
   "outputs": [],
   "source": [
    "# now we're changing the directory as we want to read the csv file to see the data\n",
    "os.chdir('E:\\Aniket\\BI Stuff')"
   ]
  },
  {
   "cell_type": "code",
   "execution_count": 4,
   "id": "5a8612f1",
   "metadata": {},
   "outputs": [
    {
     "data": {
      "text/plain": [
       "'E:\\\\Aniket\\\\BI Stuff'"
      ]
     },
     "execution_count": 4,
     "metadata": {},
     "output_type": "execute_result"
    }
   ],
   "source": [
    "os.getcwd()"
   ]
  },
  {
   "cell_type": "code",
   "execution_count": 174,
   "id": "230757d3",
   "metadata": {},
   "outputs": [],
   "source": [
    "# reading the file fromt our directory \n",
    "df=pd.read_csv(r'C:\\Users\\hy\\Documents\\Python Learning\\googleplaystore.csv')"
   ]
  },
  {
   "cell_type": "code",
   "execution_count": 249,
   "id": "d836508d",
   "metadata": {},
   "outputs": [
    {
     "name": "stdout",
     "output_type": "stream",
     "text": [
      "<class 'pandas.core.frame.DataFrame'>\n",
      "Int64Index: 9210 entries, 0 to 10839\n",
      "Data columns (total 13 columns):\n",
      " #   Column          Non-Null Count  Dtype  \n",
      "---  ------          --------------  -----  \n",
      " 0   Rating          9210 non-null   float64\n",
      " 1   App             9210 non-null   object \n",
      " 2   Category        9210 non-null   object \n",
      " 3   Reviews         9210 non-null   int64  \n",
      " 4   Size            9210 non-null   object \n",
      " 5   Installs        9210 non-null   int64  \n",
      " 6   Type            9210 non-null   object \n",
      " 7   Price           9210 non-null   float64\n",
      " 8   Content_Rating  9210 non-null   object \n",
      " 9   Genres          9210 non-null   object \n",
      " 10  Last_Updated    9210 non-null   object \n",
      " 11  Current_Ver     9210 non-null   object \n",
      " 12  Android_Ver     9210 non-null   object \n",
      "dtypes: float64(2), int64(2), object(9)\n",
      "memory usage: 1007.3+ KB\n"
     ]
    }
   ],
   "source": [
    "df"
   ]
  },
  {
   "cell_type": "code",
   "execution_count": 177,
   "id": "936fa255",
   "metadata": {},
   "outputs": [
    {
     "data": {
      "text/html": [
       "<div>\n",
       "<style scoped>\n",
       "    .dataframe tbody tr th:only-of-type {\n",
       "        vertical-align: middle;\n",
       "    }\n",
       "\n",
       "    .dataframe tbody tr th {\n",
       "        vertical-align: top;\n",
       "    }\n",
       "\n",
       "    .dataframe thead th {\n",
       "        text-align: right;\n",
       "    }\n",
       "</style>\n",
       "<table border=\"1\" class=\"dataframe\">\n",
       "  <thead>\n",
       "    <tr style=\"text-align: right;\">\n",
       "      <th></th>\n",
       "      <th>Rating</th>\n",
       "      <th>Reviews</th>\n",
       "    </tr>\n",
       "  </thead>\n",
       "  <tbody>\n",
       "    <tr>\n",
       "      <th>count</th>\n",
       "      <td>9366.000000</td>\n",
       "      <td>1.084000e+04</td>\n",
       "    </tr>\n",
       "    <tr>\n",
       "      <th>mean</th>\n",
       "      <td>4.191757</td>\n",
       "      <td>4.441529e+05</td>\n",
       "    </tr>\n",
       "    <tr>\n",
       "      <th>std</th>\n",
       "      <td>0.515219</td>\n",
       "      <td>2.927761e+06</td>\n",
       "    </tr>\n",
       "    <tr>\n",
       "      <th>min</th>\n",
       "      <td>1.000000</td>\n",
       "      <td>0.000000e+00</td>\n",
       "    </tr>\n",
       "    <tr>\n",
       "      <th>25%</th>\n",
       "      <td>4.000000</td>\n",
       "      <td>3.800000e+01</td>\n",
       "    </tr>\n",
       "    <tr>\n",
       "      <th>50%</th>\n",
       "      <td>4.300000</td>\n",
       "      <td>2.094000e+03</td>\n",
       "    </tr>\n",
       "    <tr>\n",
       "      <th>75%</th>\n",
       "      <td>4.500000</td>\n",
       "      <td>5.477550e+04</td>\n",
       "    </tr>\n",
       "    <tr>\n",
       "      <th>max</th>\n",
       "      <td>5.000000</td>\n",
       "      <td>7.815831e+07</td>\n",
       "    </tr>\n",
       "  </tbody>\n",
       "</table>\n",
       "</div>"
      ],
      "text/plain": [
       "            Rating       Reviews\n",
       "count  9366.000000  1.084000e+04\n",
       "mean      4.191757  4.441529e+05\n",
       "std       0.515219  2.927761e+06\n",
       "min       1.000000  0.000000e+00\n",
       "25%       4.000000  3.800000e+01\n",
       "50%       4.300000  2.094000e+03\n",
       "75%       4.500000  5.477550e+04\n",
       "max       5.000000  7.815831e+07"
      ]
     },
     "execution_count": 177,
     "metadata": {},
     "output_type": "execute_result"
    }
   ],
   "source": [
    "df.describe()"
   ]
  },
  {
   "cell_type": "code",
   "execution_count": 178,
   "id": "acb288bf",
   "metadata": {},
   "outputs": [
    {
     "name": "stdout",
     "output_type": "stream",
     "text": [
      "<class 'pandas.core.frame.DataFrame'>\n",
      "RangeIndex: 10840 entries, 0 to 10839\n",
      "Data columns (total 13 columns):\n",
      " #   Column          Non-Null Count  Dtype  \n",
      "---  ------          --------------  -----  \n",
      " 0   Rating          9366 non-null   float64\n",
      " 1   App             10840 non-null  object \n",
      " 2   Category        10840 non-null  object \n",
      " 3   Reviews         10840 non-null  int64  \n",
      " 4   Size            10840 non-null  object \n",
      " 5   Installs        10840 non-null  object \n",
      " 6   Type            10839 non-null  object \n",
      " 7   Price           10840 non-null  object \n",
      " 8   Content Rating  10840 non-null  object \n",
      " 9   Genres          10840 non-null  object \n",
      " 10  Last Updated    10840 non-null  object \n",
      " 11  Current Ver     10832 non-null  object \n",
      " 12  Android Ver     10838 non-null  object \n",
      "dtypes: float64(1), int64(1), object(11)\n",
      "memory usage: 1.1+ MB\n"
     ]
    }
   ],
   "source": [
    "df.info()"
   ]
  },
  {
   "cell_type": "code",
   "execution_count": 179,
   "id": "85c9392e",
   "metadata": {},
   "outputs": [
    {
     "data": {
      "text/plain": [
       "(10840, 13)"
      ]
     },
     "execution_count": 179,
     "metadata": {},
     "output_type": "execute_result"
    }
   ],
   "source": [
    "df.shape"
   ]
  },
  {
   "cell_type": "code",
   "execution_count": 180,
   "id": "f0462729",
   "metadata": {},
   "outputs": [
    {
     "data": {
      "text/plain": [
       "Rating            1474\n",
       "App                  0\n",
       "Category             0\n",
       "Reviews              0\n",
       "Size                 0\n",
       "Installs             0\n",
       "Type                 1\n",
       "Price                0\n",
       "Content Rating       0\n",
       "Genres               0\n",
       "Last Updated         0\n",
       "Current Ver          8\n",
       "Android Ver          2\n",
       "dtype: int64"
      ]
     },
     "execution_count": 180,
     "metadata": {},
     "output_type": "execute_result"
    }
   ],
   "source": [
    "#Count the number of missing values in eacg column\n",
    "df.isnull().sum()"
   ]
  },
  {
   "cell_type": "code",
   "execution_count": 181,
   "id": "6d6e8fb5",
   "metadata": {},
   "outputs": [],
   "source": [
    "#Changing the column name of the given dataset\n",
    "df.rename({'Content Rating':'Content_Rating','Last Updated':'Last_Updated','Current Ver':'Current_Ver','Android Ver':'Android_Ver' },axis=1,inplace=True)"
   ]
  },
  {
   "cell_type": "markdown",
   "id": "3f8a2297",
   "metadata": {},
   "source": [
    "# Tasks"
   ]
  },
  {
   "cell_type": "markdown",
   "id": "4b8b4b3b",
   "metadata": {},
   "source": [
    "# 1. Data clean up – Missing value treatment"
   ]
  },
  {
   "cell_type": "markdown",
   "id": "07494de5",
   "metadata": {},
   "source": [
    "# a. Drop records where rating is missing since rating is our target/study variable"
   ]
  },
  {
   "cell_type": "code",
   "execution_count": 182,
   "id": "53e41b69",
   "metadata": {},
   "outputs": [
    {
     "data": {
      "text/plain": [
       "Rating            1474\n",
       "App                  0\n",
       "Category             0\n",
       "Reviews              0\n",
       "Size                 0\n",
       "Installs             0\n",
       "Type                 1\n",
       "Price                0\n",
       "Content_Rating       0\n",
       "Genres               0\n",
       "Last_Updated         0\n",
       "Current_Ver          8\n",
       "Android_Ver          2\n",
       "dtype: int64"
      ]
     },
     "execution_count": 182,
     "metadata": {},
     "output_type": "execute_result"
    }
   ],
   "source": [
    "# checking which columns has null values \n",
    "df.isnull().sum()"
   ]
  },
  {
   "cell_type": "code",
   "execution_count": 183,
   "id": "58d422e5",
   "metadata": {},
   "outputs": [
    {
     "data": {
      "text/plain": [
       "Int64Index([   23,   113,   123,   126,   129,   130,   134,   163,   180,\n",
       "              185,\n",
       "            ...\n",
       "            10815, 10817, 10820, 10821, 10822, 10823, 10824, 10830, 10834,\n",
       "            10837],\n",
       "           dtype='int64', length=1474)"
      ]
     },
     "execution_count": 183,
     "metadata": {},
     "output_type": "execute_result"
    }
   ],
   "source": [
    "df[df['Rating'].isnull()].index"
   ]
  },
  {
   "cell_type": "code",
   "execution_count": 184,
   "id": "14cfb4ab",
   "metadata": {},
   "outputs": [],
   "source": [
    "# dropping the null values from the Rating column\n",
    "df.dropna(subset=['Rating'], axis= 0, inplace= True)"
   ]
  },
  {
   "cell_type": "code",
   "execution_count": 185,
   "id": "bb219f41",
   "metadata": {},
   "outputs": [
    {
     "data": {
      "text/plain": [
       "Rating            0\n",
       "App               0\n",
       "Category          0\n",
       "Reviews           0\n",
       "Size              0\n",
       "Installs          0\n",
       "Type              0\n",
       "Price             0\n",
       "Content_Rating    0\n",
       "Genres            0\n",
       "Last_Updated      0\n",
       "Current_Ver       4\n",
       "Android_Ver       2\n",
       "dtype: int64"
      ]
     },
     "execution_count": 185,
     "metadata": {},
     "output_type": "execute_result"
    }
   ],
   "source": [
    "df.isnull().sum()"
   ]
  },
  {
   "cell_type": "markdown",
   "id": "065d039e",
   "metadata": {},
   "source": [
    "# b. Check the null values for the Android Ver column"
   ]
  },
  {
   "cell_type": "code",
   "execution_count": 187,
   "id": "5042494b",
   "metadata": {},
   "outputs": [
    {
     "data": {
      "text/html": [
       "<div>\n",
       "<style scoped>\n",
       "    .dataframe tbody tr th:only-of-type {\n",
       "        vertical-align: middle;\n",
       "    }\n",
       "\n",
       "    .dataframe tbody tr th {\n",
       "        vertical-align: top;\n",
       "    }\n",
       "\n",
       "    .dataframe thead th {\n",
       "        text-align: right;\n",
       "    }\n",
       "</style>\n",
       "<table border=\"1\" class=\"dataframe\">\n",
       "  <thead>\n",
       "    <tr style=\"text-align: right;\">\n",
       "      <th></th>\n",
       "      <th>Rating</th>\n",
       "      <th>App</th>\n",
       "      <th>Category</th>\n",
       "      <th>Reviews</th>\n",
       "      <th>Size</th>\n",
       "      <th>Installs</th>\n",
       "      <th>Type</th>\n",
       "      <th>Price</th>\n",
       "      <th>Content_Rating</th>\n",
       "      <th>Genres</th>\n",
       "      <th>Last_Updated</th>\n",
       "      <th>Current_Ver</th>\n",
       "      <th>Android_Ver</th>\n",
       "    </tr>\n",
       "  </thead>\n",
       "  <tbody>\n",
       "    <tr>\n",
       "      <th>4453</th>\n",
       "      <td>4.4</td>\n",
       "      <td>[substratum] Vacuum: P</td>\n",
       "      <td>PERSONALIZATION</td>\n",
       "      <td>230</td>\n",
       "      <td>11M</td>\n",
       "      <td>1,000+</td>\n",
       "      <td>Paid</td>\n",
       "      <td>$1.49</td>\n",
       "      <td>Everyone</td>\n",
       "      <td>Personalization</td>\n",
       "      <td>20-Jul-18</td>\n",
       "      <td>4.4</td>\n",
       "      <td>NaN</td>\n",
       "    </tr>\n",
       "    <tr>\n",
       "      <th>4490</th>\n",
       "      <td>4.5</td>\n",
       "      <td>Pi Dark [substratum]</td>\n",
       "      <td>PERSONALIZATION</td>\n",
       "      <td>189</td>\n",
       "      <td>2.1M</td>\n",
       "      <td>10,000+</td>\n",
       "      <td>Free</td>\n",
       "      <td>0</td>\n",
       "      <td>Everyone</td>\n",
       "      <td>Personalization</td>\n",
       "      <td>27-Mar-18</td>\n",
       "      <td>1.1</td>\n",
       "      <td>NaN</td>\n",
       "    </tr>\n",
       "  </tbody>\n",
       "</table>\n",
       "</div>"
      ],
      "text/plain": [
       "      Rating                     App         Category  Reviews  Size Installs  \\\n",
       "4453     4.4  [substratum] Vacuum: P  PERSONALIZATION      230   11M   1,000+   \n",
       "4490     4.5    Pi Dark [substratum]  PERSONALIZATION      189  2.1M  10,000+   \n",
       "\n",
       "      Type   Price Content_Rating           Genres Last_Updated Current_Ver  \\\n",
       "4453  Paid  $1.49        Everyone  Personalization    20-Jul-18         4.4   \n",
       "4490  Free       0       Everyone  Personalization    27-Mar-18         1.1   \n",
       "\n",
       "     Android_Ver  \n",
       "4453         NaN  \n",
       "4490         NaN  "
      ]
     },
     "execution_count": 187,
     "metadata": {},
     "output_type": "execute_result"
    }
   ],
   "source": [
    "df[df['Android_Ver'].isnull()]"
   ]
  },
  {
   "cell_type": "markdown",
   "id": "db3ba835",
   "metadata": {},
   "source": [
    "# i. Are all 3 records having the same problem?"
   ]
  },
  {
   "cell_type": "markdown",
   "id": "1ac5ae58",
   "metadata": {},
   "source": [
    "Yes, all these 3 records having the same problem in the Andoid Ver column "
   ]
  },
  {
   "cell_type": "markdown",
   "id": "78f24452",
   "metadata": {},
   "source": [
    "# ii. Drop the 3rd record i.e. record for “Life Made WIFI …”"
   ]
  },
  {
   "cell_type": "code",
   "execution_count": 17,
   "id": "dd99aa7b",
   "metadata": {},
   "outputs": [],
   "source": [
    "df.drop([10472], inplace=True)"
   ]
  },
  {
   "cell_type": "code",
   "execution_count": 18,
   "id": "94d16acb",
   "metadata": {},
   "outputs": [
    {
     "data": {
      "text/html": [
       "<div>\n",
       "<style scoped>\n",
       "    .dataframe tbody tr th:only-of-type {\n",
       "        vertical-align: middle;\n",
       "    }\n",
       "\n",
       "    .dataframe tbody tr th {\n",
       "        vertical-align: top;\n",
       "    }\n",
       "\n",
       "    .dataframe thead th {\n",
       "        text-align: right;\n",
       "    }\n",
       "</style>\n",
       "<table border=\"1\" class=\"dataframe\">\n",
       "  <thead>\n",
       "    <tr style=\"text-align: right;\">\n",
       "      <th></th>\n",
       "      <th>App</th>\n",
       "      <th>Category</th>\n",
       "      <th>Rating</th>\n",
       "      <th>Reviews</th>\n",
       "      <th>Size</th>\n",
       "      <th>Installs</th>\n",
       "      <th>Type</th>\n",
       "      <th>Price</th>\n",
       "      <th>Content_Rating</th>\n",
       "      <th>Genres</th>\n",
       "      <th>Last_Updated</th>\n",
       "      <th>Current_Ver</th>\n",
       "      <th>Android_Ver</th>\n",
       "    </tr>\n",
       "  </thead>\n",
       "  <tbody>\n",
       "    <tr>\n",
       "      <th>4453</th>\n",
       "      <td>[substratum] Vacuum: P</td>\n",
       "      <td>PERSONALIZATION</td>\n",
       "      <td>4.4</td>\n",
       "      <td>230</td>\n",
       "      <td>11000.0</td>\n",
       "      <td>1,000+</td>\n",
       "      <td>Paid</td>\n",
       "      <td>$1.49</td>\n",
       "      <td>Everyone</td>\n",
       "      <td>Personalization</td>\n",
       "      <td>July 20, 2018</td>\n",
       "      <td>4.4</td>\n",
       "      <td>NaN</td>\n",
       "    </tr>\n",
       "    <tr>\n",
       "      <th>4490</th>\n",
       "      <td>Pi Dark [substratum]</td>\n",
       "      <td>PERSONALIZATION</td>\n",
       "      <td>4.5</td>\n",
       "      <td>189</td>\n",
       "      <td>2100.0</td>\n",
       "      <td>10,000+</td>\n",
       "      <td>Free</td>\n",
       "      <td>0</td>\n",
       "      <td>Everyone</td>\n",
       "      <td>Personalization</td>\n",
       "      <td>March 27, 2018</td>\n",
       "      <td>1.1</td>\n",
       "      <td>NaN</td>\n",
       "    </tr>\n",
       "  </tbody>\n",
       "</table>\n",
       "</div>"
      ],
      "text/plain": [
       "                         App         Category  Rating Reviews     Size  \\\n",
       "4453  [substratum] Vacuum: P  PERSONALIZATION     4.4     230  11000.0   \n",
       "4490    Pi Dark [substratum]  PERSONALIZATION     4.5     189   2100.0   \n",
       "\n",
       "     Installs  Type  Price Content_Rating           Genres    Last_Updated  \\\n",
       "4453   1,000+  Paid  $1.49       Everyone  Personalization   July 20, 2018   \n",
       "4490  10,000+  Free      0       Everyone  Personalization  March 27, 2018   \n",
       "\n",
       "     Current_Ver Android_Ver  \n",
       "4453         4.4         NaN  \n",
       "4490         1.1         NaN  "
      ]
     },
     "execution_count": 18,
     "metadata": {},
     "output_type": "execute_result"
    }
   ],
   "source": [
    "df[df['Android_Ver'].isnull()]"
   ]
  },
  {
   "cell_type": "markdown",
   "id": "1adec15a",
   "metadata": {},
   "source": [
    "We have successfully droped the 3rd record"
   ]
  },
  {
   "cell_type": "markdown",
   "id": "4ecd8fa7",
   "metadata": {},
   "source": [
    "# i. Replace remaining missing values with the mode"
   ]
  },
  {
   "cell_type": "code",
   "execution_count": 188,
   "id": "213b1d8d",
   "metadata": {},
   "outputs": [
    {
     "data": {
      "text/plain": [
       "'4.1 and up'"
      ]
     },
     "execution_count": 188,
     "metadata": {},
     "output_type": "execute_result"
    }
   ],
   "source": [
    "# here we are finding the mode value of the Android Ver Column and then storing it in the new variable called x\n",
    "x=df['Android_Ver'].mode()[0]\n",
    "x"
   ]
  },
  {
   "cell_type": "code",
   "execution_count": 189,
   "id": "12537738",
   "metadata": {},
   "outputs": [],
   "source": [
    "# filling those null values with the mode() value \n",
    "df['Android_Ver'].fillna(x,inplace=True)"
   ]
  },
  {
   "cell_type": "code",
   "execution_count": 190,
   "id": "2d2d6a7f",
   "metadata": {},
   "outputs": [
    {
     "data": {
      "text/html": [
       "<div>\n",
       "<style scoped>\n",
       "    .dataframe tbody tr th:only-of-type {\n",
       "        vertical-align: middle;\n",
       "    }\n",
       "\n",
       "    .dataframe tbody tr th {\n",
       "        vertical-align: top;\n",
       "    }\n",
       "\n",
       "    .dataframe thead th {\n",
       "        text-align: right;\n",
       "    }\n",
       "</style>\n",
       "<table border=\"1\" class=\"dataframe\">\n",
       "  <thead>\n",
       "    <tr style=\"text-align: right;\">\n",
       "      <th></th>\n",
       "      <th>Rating</th>\n",
       "      <th>App</th>\n",
       "      <th>Category</th>\n",
       "      <th>Reviews</th>\n",
       "      <th>Size</th>\n",
       "      <th>Installs</th>\n",
       "      <th>Type</th>\n",
       "      <th>Price</th>\n",
       "      <th>Content_Rating</th>\n",
       "      <th>Genres</th>\n",
       "      <th>Last_Updated</th>\n",
       "      <th>Current_Ver</th>\n",
       "      <th>Android_Ver</th>\n",
       "    </tr>\n",
       "  </thead>\n",
       "  <tbody>\n",
       "  </tbody>\n",
       "</table>\n",
       "</div>"
      ],
      "text/plain": [
       "Empty DataFrame\n",
       "Columns: [Rating, App, Category, Reviews, Size, Installs, Type, Price, Content_Rating, Genres, Last_Updated, Current_Ver, Android_Ver]\n",
       "Index: []"
      ]
     },
     "execution_count": 190,
     "metadata": {},
     "output_type": "execute_result"
    }
   ],
   "source": [
    "df[df['Android_Ver'].isnull()]"
   ]
  },
  {
   "cell_type": "markdown",
   "id": "0bd3cc5a",
   "metadata": {},
   "source": [
    "# c. Current ver – replace with most common value"
   ]
  },
  {
   "cell_type": "code",
   "execution_count": 191,
   "id": "7ad5d0c4",
   "metadata": {},
   "outputs": [
    {
     "data": {
      "text/plain": [
       "Rating            0\n",
       "App               0\n",
       "Category          0\n",
       "Reviews           0\n",
       "Size              0\n",
       "Installs          0\n",
       "Type              0\n",
       "Price             0\n",
       "Content_Rating    0\n",
       "Genres            0\n",
       "Last_Updated      0\n",
       "Current_Ver       4\n",
       "Android_Ver       0\n",
       "dtype: int64"
      ]
     },
     "execution_count": 191,
     "metadata": {},
     "output_type": "execute_result"
    }
   ],
   "source": [
    "df.isnull().sum()"
   ]
  },
  {
   "cell_type": "code",
   "execution_count": 192,
   "id": "02c694ce",
   "metadata": {},
   "outputs": [
    {
     "data": {
      "text/plain": [
       "'Varies with device'"
      ]
     },
     "execution_count": 192,
     "metadata": {},
     "output_type": "execute_result"
    }
   ],
   "source": [
    "# finding the mode value of the Current Ver column and storing it in the new variable called y\n",
    "y=df['Current_Ver'].mode()[0]\n",
    "y"
   ]
  },
  {
   "cell_type": "code",
   "execution_count": 193,
   "id": "d81abe6c",
   "metadata": {},
   "outputs": [],
   "source": [
    "# filling the null values with the mode \n",
    "df['Current_Ver'].fillna(y,inplace=True)"
   ]
  },
  {
   "cell_type": "code",
   "execution_count": 194,
   "id": "c453fdca",
   "metadata": {},
   "outputs": [
    {
     "data": {
      "text/plain": [
       "Rating            0\n",
       "App               0\n",
       "Category          0\n",
       "Reviews           0\n",
       "Size              0\n",
       "Installs          0\n",
       "Type              0\n",
       "Price             0\n",
       "Content_Rating    0\n",
       "Genres            0\n",
       "Last_Updated      0\n",
       "Current_Ver       0\n",
       "Android_Ver       0\n",
       "dtype: int64"
      ]
     },
     "execution_count": 194,
     "metadata": {},
     "output_type": "execute_result"
    }
   ],
   "source": [
    "df.isnull().sum()"
   ]
  },
  {
   "cell_type": "markdown",
   "id": "6beaf01c",
   "metadata": {},
   "source": [
    "# 2. Data clean up – correcting the data types"
   ]
  },
  {
   "cell_type": "markdown",
   "id": "e78610d3",
   "metadata": {},
   "source": [
    "# a. Which all variables need to be brought to numeric types?"
   ]
  },
  {
   "cell_type": "code",
   "execution_count": 195,
   "id": "604e06ac",
   "metadata": {},
   "outputs": [
    {
     "data": {
      "text/html": [
       "<div>\n",
       "<style scoped>\n",
       "    .dataframe tbody tr th:only-of-type {\n",
       "        vertical-align: middle;\n",
       "    }\n",
       "\n",
       "    .dataframe tbody tr th {\n",
       "        vertical-align: top;\n",
       "    }\n",
       "\n",
       "    .dataframe thead th {\n",
       "        text-align: right;\n",
       "    }\n",
       "</style>\n",
       "<table border=\"1\" class=\"dataframe\">\n",
       "  <thead>\n",
       "    <tr style=\"text-align: right;\">\n",
       "      <th></th>\n",
       "      <th>Rating</th>\n",
       "      <th>App</th>\n",
       "      <th>Category</th>\n",
       "      <th>Reviews</th>\n",
       "      <th>Size</th>\n",
       "      <th>Installs</th>\n",
       "      <th>Type</th>\n",
       "      <th>Price</th>\n",
       "      <th>Content_Rating</th>\n",
       "      <th>Genres</th>\n",
       "      <th>Last_Updated</th>\n",
       "      <th>Current_Ver</th>\n",
       "      <th>Android_Ver</th>\n",
       "    </tr>\n",
       "  </thead>\n",
       "  <tbody>\n",
       "    <tr>\n",
       "      <th>0</th>\n",
       "      <td>4.1</td>\n",
       "      <td>Photo Editor &amp; Candy Camera &amp; Grid &amp; ScrapBook</td>\n",
       "      <td>ART_AND_DESIGN</td>\n",
       "      <td>159</td>\n",
       "      <td>19M</td>\n",
       "      <td>10,000+</td>\n",
       "      <td>Free</td>\n",
       "      <td>0</td>\n",
       "      <td>Everyone</td>\n",
       "      <td>Art &amp; Design</td>\n",
       "      <td>07-Jan-18</td>\n",
       "      <td>1.0.0</td>\n",
       "      <td>4.0.3 and up</td>\n",
       "    </tr>\n",
       "    <tr>\n",
       "      <th>1</th>\n",
       "      <td>3.9</td>\n",
       "      <td>Coloring book moana</td>\n",
       "      <td>ART_AND_DESIGN</td>\n",
       "      <td>967</td>\n",
       "      <td>14M</td>\n",
       "      <td>500,000+</td>\n",
       "      <td>Free</td>\n",
       "      <td>0</td>\n",
       "      <td>Everyone</td>\n",
       "      <td>Art &amp; Design;Pretend Play</td>\n",
       "      <td>15-Jan-18</td>\n",
       "      <td>2.0.0</td>\n",
       "      <td>4.0.3 and up</td>\n",
       "    </tr>\n",
       "    <tr>\n",
       "      <th>2</th>\n",
       "      <td>4.7</td>\n",
       "      <td>U Launcher Lite – FREE Live Cool Themes, Hide ...</td>\n",
       "      <td>ART_AND_DESIGN</td>\n",
       "      <td>87510</td>\n",
       "      <td>8.7M</td>\n",
       "      <td>5,000,000+</td>\n",
       "      <td>Free</td>\n",
       "      <td>0</td>\n",
       "      <td>Everyone</td>\n",
       "      <td>Art &amp; Design</td>\n",
       "      <td>01-Aug-18</td>\n",
       "      <td>1.2.4</td>\n",
       "      <td>4.0.3 and up</td>\n",
       "    </tr>\n",
       "  </tbody>\n",
       "</table>\n",
       "</div>"
      ],
      "text/plain": [
       "   Rating                                                App        Category  \\\n",
       "0     4.1     Photo Editor & Candy Camera & Grid & ScrapBook  ART_AND_DESIGN   \n",
       "1     3.9                                Coloring book moana  ART_AND_DESIGN   \n",
       "2     4.7  U Launcher Lite – FREE Live Cool Themes, Hide ...  ART_AND_DESIGN   \n",
       "\n",
       "   Reviews  Size    Installs  Type Price Content_Rating  \\\n",
       "0      159   19M     10,000+  Free     0       Everyone   \n",
       "1      967   14M    500,000+  Free     0       Everyone   \n",
       "2    87510  8.7M  5,000,000+  Free     0       Everyone   \n",
       "\n",
       "                      Genres Last_Updated Current_Ver   Android_Ver  \n",
       "0               Art & Design    07-Jan-18       1.0.0  4.0.3 and up  \n",
       "1  Art & Design;Pretend Play    15-Jan-18       2.0.0  4.0.3 and up  \n",
       "2               Art & Design    01-Aug-18       1.2.4  4.0.3 and up  "
      ]
     },
     "execution_count": 195,
     "metadata": {},
     "output_type": "execute_result"
    }
   ],
   "source": [
    "df.head(3)"
   ]
  },
  {
   "cell_type": "code",
   "execution_count": 196,
   "id": "25bdda83",
   "metadata": {},
   "outputs": [
    {
     "name": "stdout",
     "output_type": "stream",
     "text": [
      "<class 'pandas.core.frame.DataFrame'>\n",
      "Int64Index: 9366 entries, 0 to 10839\n",
      "Data columns (total 13 columns):\n",
      " #   Column          Non-Null Count  Dtype  \n",
      "---  ------          --------------  -----  \n",
      " 0   Rating          9366 non-null   float64\n",
      " 1   App             9366 non-null   object \n",
      " 2   Category        9366 non-null   object \n",
      " 3   Reviews         9366 non-null   int64  \n",
      " 4   Size            9366 non-null   object \n",
      " 5   Installs        9366 non-null   object \n",
      " 6   Type            9366 non-null   object \n",
      " 7   Price           9366 non-null   object \n",
      " 8   Content_Rating  9366 non-null   object \n",
      " 9   Genres          9366 non-null   object \n",
      " 10  Last_Updated    9366 non-null   object \n",
      " 11  Current_Ver     9366 non-null   object \n",
      " 12  Android_Ver     9366 non-null   object \n",
      "dtypes: float64(1), int64(1), object(11)\n",
      "memory usage: 1.0+ MB\n"
     ]
    }
   ],
   "source": [
    "df.info()"
   ]
  },
  {
   "cell_type": "markdown",
   "id": "8c64cf13",
   "metadata": {},
   "source": [
    "From this information, we can see that, the column Reviews, Installs and Price have the numeric data so we can convert\n",
    "these columns into the numeric types, but there are also 2 columns which are Current Ver and Android Ver can be conevert\n",
    "into the numeric type but in those columnn there are some strig values which we can drop it or replace it"
   ]
  },
  {
   "cell_type": "markdown",
   "id": "1a290cd7",
   "metadata": {},
   "source": [
    "# b. Price variable – remove $ sign and convert to float"
   ]
  },
  {
   "cell_type": "code",
   "execution_count": 197,
   "id": "154563ee",
   "metadata": {},
   "outputs": [
    {
     "data": {
      "text/html": [
       "<div>\n",
       "<style scoped>\n",
       "    .dataframe tbody tr th:only-of-type {\n",
       "        vertical-align: middle;\n",
       "    }\n",
       "\n",
       "    .dataframe tbody tr th {\n",
       "        vertical-align: top;\n",
       "    }\n",
       "\n",
       "    .dataframe thead th {\n",
       "        text-align: right;\n",
       "    }\n",
       "</style>\n",
       "<table border=\"1\" class=\"dataframe\">\n",
       "  <thead>\n",
       "    <tr style=\"text-align: right;\">\n",
       "      <th></th>\n",
       "      <th>Rating</th>\n",
       "      <th>App</th>\n",
       "      <th>Category</th>\n",
       "      <th>Reviews</th>\n",
       "      <th>Size</th>\n",
       "      <th>Installs</th>\n",
       "      <th>Type</th>\n",
       "      <th>Price</th>\n",
       "      <th>Content_Rating</th>\n",
       "      <th>Genres</th>\n",
       "      <th>Last_Updated</th>\n",
       "      <th>Current_Ver</th>\n",
       "      <th>Android_Ver</th>\n",
       "    </tr>\n",
       "  </thead>\n",
       "  <tbody>\n",
       "    <tr>\n",
       "      <th>0</th>\n",
       "      <td>4.1</td>\n",
       "      <td>Photo Editor &amp; Candy Camera &amp; Grid &amp; ScrapBook</td>\n",
       "      <td>ART_AND_DESIGN</td>\n",
       "      <td>159</td>\n",
       "      <td>19M</td>\n",
       "      <td>10,000+</td>\n",
       "      <td>Free</td>\n",
       "      <td>0</td>\n",
       "      <td>Everyone</td>\n",
       "      <td>Art &amp; Design</td>\n",
       "      <td>07-Jan-18</td>\n",
       "      <td>1.0.0</td>\n",
       "      <td>4.0.3 and up</td>\n",
       "    </tr>\n",
       "    <tr>\n",
       "      <th>1</th>\n",
       "      <td>3.9</td>\n",
       "      <td>Coloring book moana</td>\n",
       "      <td>ART_AND_DESIGN</td>\n",
       "      <td>967</td>\n",
       "      <td>14M</td>\n",
       "      <td>500,000+</td>\n",
       "      <td>Free</td>\n",
       "      <td>0</td>\n",
       "      <td>Everyone</td>\n",
       "      <td>Art &amp; Design;Pretend Play</td>\n",
       "      <td>15-Jan-18</td>\n",
       "      <td>2.0.0</td>\n",
       "      <td>4.0.3 and up</td>\n",
       "    </tr>\n",
       "    <tr>\n",
       "      <th>2</th>\n",
       "      <td>4.7</td>\n",
       "      <td>U Launcher Lite – FREE Live Cool Themes, Hide ...</td>\n",
       "      <td>ART_AND_DESIGN</td>\n",
       "      <td>87510</td>\n",
       "      <td>8.7M</td>\n",
       "      <td>5,000,000+</td>\n",
       "      <td>Free</td>\n",
       "      <td>0</td>\n",
       "      <td>Everyone</td>\n",
       "      <td>Art &amp; Design</td>\n",
       "      <td>01-Aug-18</td>\n",
       "      <td>1.2.4</td>\n",
       "      <td>4.0.3 and up</td>\n",
       "    </tr>\n",
       "    <tr>\n",
       "      <th>3</th>\n",
       "      <td>4.5</td>\n",
       "      <td>Sketch - Draw &amp; Paint</td>\n",
       "      <td>ART_AND_DESIGN</td>\n",
       "      <td>215644</td>\n",
       "      <td>25M</td>\n",
       "      <td>50,000,000+</td>\n",
       "      <td>Free</td>\n",
       "      <td>0</td>\n",
       "      <td>Teen</td>\n",
       "      <td>Art &amp; Design</td>\n",
       "      <td>08-Jun-18</td>\n",
       "      <td>Varies with device</td>\n",
       "      <td>4.2 and up</td>\n",
       "    </tr>\n",
       "    <tr>\n",
       "      <th>4</th>\n",
       "      <td>4.3</td>\n",
       "      <td>Pixel Draw - Number Art Coloring Book</td>\n",
       "      <td>ART_AND_DESIGN</td>\n",
       "      <td>967</td>\n",
       "      <td>2.8M</td>\n",
       "      <td>100,000+</td>\n",
       "      <td>Free</td>\n",
       "      <td>0</td>\n",
       "      <td>Everyone</td>\n",
       "      <td>Art &amp; Design;Creativity</td>\n",
       "      <td>20-Jun-18</td>\n",
       "      <td>1.1</td>\n",
       "      <td>4.4 and up</td>\n",
       "    </tr>\n",
       "    <tr>\n",
       "      <th>5</th>\n",
       "      <td>4.4</td>\n",
       "      <td>Paper flowers instructions</td>\n",
       "      <td>ART_AND_DESIGN</td>\n",
       "      <td>167</td>\n",
       "      <td>5.6M</td>\n",
       "      <td>50,000+</td>\n",
       "      <td>Free</td>\n",
       "      <td>0</td>\n",
       "      <td>Everyone</td>\n",
       "      <td>Art &amp; Design</td>\n",
       "      <td>26-Mar-17</td>\n",
       "      <td>1</td>\n",
       "      <td>2.3 and up</td>\n",
       "    </tr>\n",
       "    <tr>\n",
       "      <th>6</th>\n",
       "      <td>3.8</td>\n",
       "      <td>Smoke Effect Photo Maker - Smoke Editor</td>\n",
       "      <td>ART_AND_DESIGN</td>\n",
       "      <td>178</td>\n",
       "      <td>19M</td>\n",
       "      <td>50,000+</td>\n",
       "      <td>Free</td>\n",
       "      <td>0</td>\n",
       "      <td>Everyone</td>\n",
       "      <td>Art &amp; Design</td>\n",
       "      <td>26-Apr-18</td>\n",
       "      <td>1.1</td>\n",
       "      <td>4.0.3 and up</td>\n",
       "    </tr>\n",
       "    <tr>\n",
       "      <th>7</th>\n",
       "      <td>4.1</td>\n",
       "      <td>Infinite Painter</td>\n",
       "      <td>ART_AND_DESIGN</td>\n",
       "      <td>36815</td>\n",
       "      <td>29M</td>\n",
       "      <td>1,000,000+</td>\n",
       "      <td>Free</td>\n",
       "      <td>0</td>\n",
       "      <td>Everyone</td>\n",
       "      <td>Art &amp; Design</td>\n",
       "      <td>14-Jun-18</td>\n",
       "      <td>6.1.61.1</td>\n",
       "      <td>4.2 and up</td>\n",
       "    </tr>\n",
       "    <tr>\n",
       "      <th>8</th>\n",
       "      <td>4.4</td>\n",
       "      <td>Garden Coloring Book</td>\n",
       "      <td>ART_AND_DESIGN</td>\n",
       "      <td>13791</td>\n",
       "      <td>33M</td>\n",
       "      <td>1,000,000+</td>\n",
       "      <td>Free</td>\n",
       "      <td>0</td>\n",
       "      <td>Everyone</td>\n",
       "      <td>Art &amp; Design</td>\n",
       "      <td>20-Sep-17</td>\n",
       "      <td>2.9.2</td>\n",
       "      <td>3.0 and up</td>\n",
       "    </tr>\n",
       "    <tr>\n",
       "      <th>9</th>\n",
       "      <td>4.7</td>\n",
       "      <td>Kids Paint Free - Drawing Fun</td>\n",
       "      <td>ART_AND_DESIGN</td>\n",
       "      <td>121</td>\n",
       "      <td>3.1M</td>\n",
       "      <td>10,000+</td>\n",
       "      <td>Free</td>\n",
       "      <td>0</td>\n",
       "      <td>Everyone</td>\n",
       "      <td>Art &amp; Design;Creativity</td>\n",
       "      <td>03-Jul-18</td>\n",
       "      <td>2.8</td>\n",
       "      <td>4.0.3 and up</td>\n",
       "    </tr>\n",
       "  </tbody>\n",
       "</table>\n",
       "</div>"
      ],
      "text/plain": [
       "   Rating                                                App        Category  \\\n",
       "0     4.1     Photo Editor & Candy Camera & Grid & ScrapBook  ART_AND_DESIGN   \n",
       "1     3.9                                Coloring book moana  ART_AND_DESIGN   \n",
       "2     4.7  U Launcher Lite – FREE Live Cool Themes, Hide ...  ART_AND_DESIGN   \n",
       "3     4.5                              Sketch - Draw & Paint  ART_AND_DESIGN   \n",
       "4     4.3              Pixel Draw - Number Art Coloring Book  ART_AND_DESIGN   \n",
       "5     4.4                         Paper flowers instructions  ART_AND_DESIGN   \n",
       "6     3.8            Smoke Effect Photo Maker - Smoke Editor  ART_AND_DESIGN   \n",
       "7     4.1                                   Infinite Painter  ART_AND_DESIGN   \n",
       "8     4.4                               Garden Coloring Book  ART_AND_DESIGN   \n",
       "9     4.7                      Kids Paint Free - Drawing Fun  ART_AND_DESIGN   \n",
       "\n",
       "   Reviews  Size     Installs  Type Price Content_Rating  \\\n",
       "0      159   19M      10,000+  Free     0       Everyone   \n",
       "1      967   14M     500,000+  Free     0       Everyone   \n",
       "2    87510  8.7M   5,000,000+  Free     0       Everyone   \n",
       "3   215644   25M  50,000,000+  Free     0           Teen   \n",
       "4      967  2.8M     100,000+  Free     0       Everyone   \n",
       "5      167  5.6M      50,000+  Free     0       Everyone   \n",
       "6      178   19M      50,000+  Free     0       Everyone   \n",
       "7    36815   29M   1,000,000+  Free     0       Everyone   \n",
       "8    13791   33M   1,000,000+  Free     0       Everyone   \n",
       "9      121  3.1M      10,000+  Free     0       Everyone   \n",
       "\n",
       "                      Genres Last_Updated         Current_Ver   Android_Ver  \n",
       "0               Art & Design    07-Jan-18               1.0.0  4.0.3 and up  \n",
       "1  Art & Design;Pretend Play    15-Jan-18               2.0.0  4.0.3 and up  \n",
       "2               Art & Design    01-Aug-18               1.2.4  4.0.3 and up  \n",
       "3               Art & Design    08-Jun-18  Varies with device    4.2 and up  \n",
       "4    Art & Design;Creativity    20-Jun-18                 1.1    4.4 and up  \n",
       "5               Art & Design    26-Mar-17                   1    2.3 and up  \n",
       "6               Art & Design    26-Apr-18                 1.1  4.0.3 and up  \n",
       "7               Art & Design    14-Jun-18            6.1.61.1    4.2 and up  \n",
       "8               Art & Design    20-Sep-17               2.9.2    3.0 and up  \n",
       "9    Art & Design;Creativity    03-Jul-18                 2.8  4.0.3 and up  "
      ]
     },
     "execution_count": 197,
     "metadata": {},
     "output_type": "execute_result"
    }
   ],
   "source": [
    "df.head(10)"
   ]
  },
  {
   "cell_type": "code",
   "execution_count": 198,
   "id": "fc8bd9d1",
   "metadata": {},
   "outputs": [
    {
     "name": "stderr",
     "output_type": "stream",
     "text": [
      "C:\\Users\\hy\\AppData\\Local\\Temp\\ipykernel_1116\\3908950467.py:2: FutureWarning: The default value of regex will change from True to False in a future version. In addition, single character regular expressions will *not* be treated as literal strings when regex=True.\n",
      "  df['Price'] = pd.to_numeric(df['Price'].str.replace('$',''))\n"
     ]
    }
   ],
   "source": [
    "# here we are replacing the $ amd also converting the type of it to the numeric\n",
    "df['Price'] = pd.to_numeric(df['Price'].str.replace('$',''))"
   ]
  },
  {
   "cell_type": "code",
   "execution_count": 199,
   "id": "0ad06ae6",
   "metadata": {},
   "outputs": [
    {
     "name": "stdout",
     "output_type": "stream",
     "text": [
      "<class 'pandas.core.frame.DataFrame'>\n",
      "Int64Index: 9366 entries, 0 to 10839\n",
      "Data columns (total 13 columns):\n",
      " #   Column          Non-Null Count  Dtype  \n",
      "---  ------          --------------  -----  \n",
      " 0   Rating          9366 non-null   float64\n",
      " 1   App             9366 non-null   object \n",
      " 2   Category        9366 non-null   object \n",
      " 3   Reviews         9366 non-null   int64  \n",
      " 4   Size            9366 non-null   object \n",
      " 5   Installs        9366 non-null   object \n",
      " 6   Type            9366 non-null   object \n",
      " 7   Price           9366 non-null   float64\n",
      " 8   Content_Rating  9366 non-null   object \n",
      " 9   Genres          9366 non-null   object \n",
      " 10  Last_Updated    9366 non-null   object \n",
      " 11  Current_Ver     9366 non-null   object \n",
      " 12  Android_Ver     9366 non-null   object \n",
      "dtypes: float64(2), int64(1), object(10)\n",
      "memory usage: 1.0+ MB\n"
     ]
    }
   ],
   "source": [
    "df.info()"
   ]
  },
  {
   "cell_type": "markdown",
   "id": "0811d225",
   "metadata": {},
   "source": [
    "# c. Installs – remove ‘,’ and ‘+’ sign, convert to integer"
   ]
  },
  {
   "cell_type": "code",
   "execution_count": 200,
   "id": "3e4fc8d8",
   "metadata": {},
   "outputs": [
    {
     "name": "stderr",
     "output_type": "stream",
     "text": [
      "C:\\Users\\hy\\AppData\\Local\\Temp\\ipykernel_1116\\2538247168.py:2: FutureWarning: The default value of regex will change from True to False in a future version. In addition, single character regular expressions will *not* be treated as literal strings when regex=True.\n",
      "  df['Installs'] = pd.to_numeric(df['Installs'].str.replace(',','').str.replace(\"+\",\"\"))\n"
     ]
    }
   ],
   "source": [
    "# replacing the given condition using this syntax\n",
    "df['Installs'] = pd.to_numeric(df['Installs'].str.replace(',','').str.replace(\"+\",\"\"))"
   ]
  },
  {
   "cell_type": "code",
   "execution_count": 201,
   "id": "a851f7bc",
   "metadata": {},
   "outputs": [
    {
     "data": {
      "text/html": [
       "<div>\n",
       "<style scoped>\n",
       "    .dataframe tbody tr th:only-of-type {\n",
       "        vertical-align: middle;\n",
       "    }\n",
       "\n",
       "    .dataframe tbody tr th {\n",
       "        vertical-align: top;\n",
       "    }\n",
       "\n",
       "    .dataframe thead th {\n",
       "        text-align: right;\n",
       "    }\n",
       "</style>\n",
       "<table border=\"1\" class=\"dataframe\">\n",
       "  <thead>\n",
       "    <tr style=\"text-align: right;\">\n",
       "      <th></th>\n",
       "      <th>Rating</th>\n",
       "      <th>App</th>\n",
       "      <th>Category</th>\n",
       "      <th>Reviews</th>\n",
       "      <th>Size</th>\n",
       "      <th>Installs</th>\n",
       "      <th>Type</th>\n",
       "      <th>Price</th>\n",
       "      <th>Content_Rating</th>\n",
       "      <th>Genres</th>\n",
       "      <th>Last_Updated</th>\n",
       "      <th>Current_Ver</th>\n",
       "      <th>Android_Ver</th>\n",
       "    </tr>\n",
       "  </thead>\n",
       "  <tbody>\n",
       "    <tr>\n",
       "      <th>0</th>\n",
       "      <td>4.1</td>\n",
       "      <td>Photo Editor &amp; Candy Camera &amp; Grid &amp; ScrapBook</td>\n",
       "      <td>ART_AND_DESIGN</td>\n",
       "      <td>159</td>\n",
       "      <td>19M</td>\n",
       "      <td>10000</td>\n",
       "      <td>Free</td>\n",
       "      <td>0.0</td>\n",
       "      <td>Everyone</td>\n",
       "      <td>Art &amp; Design</td>\n",
       "      <td>07-Jan-18</td>\n",
       "      <td>1.0.0</td>\n",
       "      <td>4.0.3 and up</td>\n",
       "    </tr>\n",
       "    <tr>\n",
       "      <th>1</th>\n",
       "      <td>3.9</td>\n",
       "      <td>Coloring book moana</td>\n",
       "      <td>ART_AND_DESIGN</td>\n",
       "      <td>967</td>\n",
       "      <td>14M</td>\n",
       "      <td>500000</td>\n",
       "      <td>Free</td>\n",
       "      <td>0.0</td>\n",
       "      <td>Everyone</td>\n",
       "      <td>Art &amp; Design;Pretend Play</td>\n",
       "      <td>15-Jan-18</td>\n",
       "      <td>2.0.0</td>\n",
       "      <td>4.0.3 and up</td>\n",
       "    </tr>\n",
       "    <tr>\n",
       "      <th>2</th>\n",
       "      <td>4.7</td>\n",
       "      <td>U Launcher Lite – FREE Live Cool Themes, Hide ...</td>\n",
       "      <td>ART_AND_DESIGN</td>\n",
       "      <td>87510</td>\n",
       "      <td>8.7M</td>\n",
       "      <td>5000000</td>\n",
       "      <td>Free</td>\n",
       "      <td>0.0</td>\n",
       "      <td>Everyone</td>\n",
       "      <td>Art &amp; Design</td>\n",
       "      <td>01-Aug-18</td>\n",
       "      <td>1.2.4</td>\n",
       "      <td>4.0.3 and up</td>\n",
       "    </tr>\n",
       "    <tr>\n",
       "      <th>3</th>\n",
       "      <td>4.5</td>\n",
       "      <td>Sketch - Draw &amp; Paint</td>\n",
       "      <td>ART_AND_DESIGN</td>\n",
       "      <td>215644</td>\n",
       "      <td>25M</td>\n",
       "      <td>50000000</td>\n",
       "      <td>Free</td>\n",
       "      <td>0.0</td>\n",
       "      <td>Teen</td>\n",
       "      <td>Art &amp; Design</td>\n",
       "      <td>08-Jun-18</td>\n",
       "      <td>Varies with device</td>\n",
       "      <td>4.2 and up</td>\n",
       "    </tr>\n",
       "    <tr>\n",
       "      <th>4</th>\n",
       "      <td>4.3</td>\n",
       "      <td>Pixel Draw - Number Art Coloring Book</td>\n",
       "      <td>ART_AND_DESIGN</td>\n",
       "      <td>967</td>\n",
       "      <td>2.8M</td>\n",
       "      <td>100000</td>\n",
       "      <td>Free</td>\n",
       "      <td>0.0</td>\n",
       "      <td>Everyone</td>\n",
       "      <td>Art &amp; Design;Creativity</td>\n",
       "      <td>20-Jun-18</td>\n",
       "      <td>1.1</td>\n",
       "      <td>4.4 and up</td>\n",
       "    </tr>\n",
       "  </tbody>\n",
       "</table>\n",
       "</div>"
      ],
      "text/plain": [
       "   Rating                                                App        Category  \\\n",
       "0     4.1     Photo Editor & Candy Camera & Grid & ScrapBook  ART_AND_DESIGN   \n",
       "1     3.9                                Coloring book moana  ART_AND_DESIGN   \n",
       "2     4.7  U Launcher Lite – FREE Live Cool Themes, Hide ...  ART_AND_DESIGN   \n",
       "3     4.5                              Sketch - Draw & Paint  ART_AND_DESIGN   \n",
       "4     4.3              Pixel Draw - Number Art Coloring Book  ART_AND_DESIGN   \n",
       "\n",
       "   Reviews  Size  Installs  Type  Price Content_Rating  \\\n",
       "0      159   19M     10000  Free    0.0       Everyone   \n",
       "1      967   14M    500000  Free    0.0       Everyone   \n",
       "2    87510  8.7M   5000000  Free    0.0       Everyone   \n",
       "3   215644   25M  50000000  Free    0.0           Teen   \n",
       "4      967  2.8M    100000  Free    0.0       Everyone   \n",
       "\n",
       "                      Genres Last_Updated         Current_Ver   Android_Ver  \n",
       "0               Art & Design    07-Jan-18               1.0.0  4.0.3 and up  \n",
       "1  Art & Design;Pretend Play    15-Jan-18               2.0.0  4.0.3 and up  \n",
       "2               Art & Design    01-Aug-18               1.2.4  4.0.3 and up  \n",
       "3               Art & Design    08-Jun-18  Varies with device    4.2 and up  \n",
       "4    Art & Design;Creativity    20-Jun-18                 1.1    4.4 and up  "
      ]
     },
     "execution_count": 201,
     "metadata": {},
     "output_type": "execute_result"
    }
   ],
   "source": [
    "df.head()"
   ]
  },
  {
   "cell_type": "markdown",
   "id": "3968635e",
   "metadata": {},
   "source": [
    "Here you can see that, there are \",\" and \"+\" from the given column "
   ]
  },
  {
   "cell_type": "markdown",
   "id": "f7c1522c",
   "metadata": {},
   "source": [
    "# d. Convert all other identified columns to numeric¶"
   ]
  },
  {
   "cell_type": "code",
   "execution_count": 202,
   "id": "7795e831",
   "metadata": {},
   "outputs": [
    {
     "name": "stdout",
     "output_type": "stream",
     "text": [
      "<class 'pandas.core.frame.DataFrame'>\n",
      "Int64Index: 9366 entries, 0 to 10839\n",
      "Data columns (total 13 columns):\n",
      " #   Column          Non-Null Count  Dtype  \n",
      "---  ------          --------------  -----  \n",
      " 0   Rating          9366 non-null   float64\n",
      " 1   App             9366 non-null   object \n",
      " 2   Category        9366 non-null   object \n",
      " 3   Reviews         9366 non-null   int64  \n",
      " 4   Size            9366 non-null   object \n",
      " 5   Installs        9366 non-null   int64  \n",
      " 6   Type            9366 non-null   object \n",
      " 7   Price           9366 non-null   float64\n",
      " 8   Content_Rating  9366 non-null   object \n",
      " 9   Genres          9366 non-null   object \n",
      " 10  Last_Updated    9366 non-null   object \n",
      " 11  Current_Ver     9366 non-null   object \n",
      " 12  Android_Ver     9366 non-null   object \n",
      "dtypes: float64(2), int64(2), object(9)\n",
      "memory usage: 1.0+ MB\n"
     ]
    }
   ],
   "source": [
    "df.info()"
   ]
  },
  {
   "cell_type": "markdown",
   "id": "fe43c808",
   "metadata": {},
   "source": [
    "From the given info, we have already converted the identifies columns into the numeric type so now, there are no such \n",
    "columns which we need to convert to numeric type"
   ]
  },
  {
   "cell_type": "markdown",
   "id": "cec645e3",
   "metadata": {},
   "source": [
    "# 3. Sanity checks – check for the following and handle accordingly"
   ]
  },
  {
   "cell_type": "markdown",
   "id": "6a6b86bd",
   "metadata": {},
   "source": [
    "# a. Avg. rating should be between 1 and 5, as only these values are allowed on the play store."
   ]
  },
  {
   "cell_type": "markdown",
   "id": "e4f95286",
   "metadata": {},
   "source": [
    "# i. Are there any such records? Drop if so."
   ]
  },
  {
   "cell_type": "code",
   "execution_count": 203,
   "id": "4b0a2262",
   "metadata": {},
   "outputs": [
    {
     "data": {
      "text/html": [
       "<div>\n",
       "<style scoped>\n",
       "    .dataframe tbody tr th:only-of-type {\n",
       "        vertical-align: middle;\n",
       "    }\n",
       "\n",
       "    .dataframe tbody tr th {\n",
       "        vertical-align: top;\n",
       "    }\n",
       "\n",
       "    .dataframe thead th {\n",
       "        text-align: right;\n",
       "    }\n",
       "</style>\n",
       "<table border=\"1\" class=\"dataframe\">\n",
       "  <thead>\n",
       "    <tr style=\"text-align: right;\">\n",
       "      <th></th>\n",
       "      <th>Rating</th>\n",
       "      <th>App</th>\n",
       "      <th>Category</th>\n",
       "      <th>Reviews</th>\n",
       "      <th>Size</th>\n",
       "      <th>Installs</th>\n",
       "      <th>Type</th>\n",
       "      <th>Price</th>\n",
       "      <th>Content_Rating</th>\n",
       "      <th>Genres</th>\n",
       "      <th>Last_Updated</th>\n",
       "      <th>Current_Ver</th>\n",
       "      <th>Android_Ver</th>\n",
       "    </tr>\n",
       "  </thead>\n",
       "  <tbody>\n",
       "    <tr>\n",
       "      <th>0</th>\n",
       "      <td>4.1</td>\n",
       "      <td>Photo Editor &amp; Candy Camera &amp; Grid &amp; ScrapBook</td>\n",
       "      <td>ART_AND_DESIGN</td>\n",
       "      <td>159</td>\n",
       "      <td>19M</td>\n",
       "      <td>10000</td>\n",
       "      <td>Free</td>\n",
       "      <td>0.0</td>\n",
       "      <td>Everyone</td>\n",
       "      <td>Art &amp; Design</td>\n",
       "      <td>07-Jan-18</td>\n",
       "      <td>1.0.0</td>\n",
       "      <td>4.0.3 and up</td>\n",
       "    </tr>\n",
       "    <tr>\n",
       "      <th>1</th>\n",
       "      <td>3.9</td>\n",
       "      <td>Coloring book moana</td>\n",
       "      <td>ART_AND_DESIGN</td>\n",
       "      <td>967</td>\n",
       "      <td>14M</td>\n",
       "      <td>500000</td>\n",
       "      <td>Free</td>\n",
       "      <td>0.0</td>\n",
       "      <td>Everyone</td>\n",
       "      <td>Art &amp; Design;Pretend Play</td>\n",
       "      <td>15-Jan-18</td>\n",
       "      <td>2.0.0</td>\n",
       "      <td>4.0.3 and up</td>\n",
       "    </tr>\n",
       "    <tr>\n",
       "      <th>2</th>\n",
       "      <td>4.7</td>\n",
       "      <td>U Launcher Lite – FREE Live Cool Themes, Hide ...</td>\n",
       "      <td>ART_AND_DESIGN</td>\n",
       "      <td>87510</td>\n",
       "      <td>8.7M</td>\n",
       "      <td>5000000</td>\n",
       "      <td>Free</td>\n",
       "      <td>0.0</td>\n",
       "      <td>Everyone</td>\n",
       "      <td>Art &amp; Design</td>\n",
       "      <td>01-Aug-18</td>\n",
       "      <td>1.2.4</td>\n",
       "      <td>4.0.3 and up</td>\n",
       "    </tr>\n",
       "  </tbody>\n",
       "</table>\n",
       "</div>"
      ],
      "text/plain": [
       "   Rating                                                App        Category  \\\n",
       "0     4.1     Photo Editor & Candy Camera & Grid & ScrapBook  ART_AND_DESIGN   \n",
       "1     3.9                                Coloring book moana  ART_AND_DESIGN   \n",
       "2     4.7  U Launcher Lite – FREE Live Cool Themes, Hide ...  ART_AND_DESIGN   \n",
       "\n",
       "   Reviews  Size  Installs  Type  Price Content_Rating  \\\n",
       "0      159   19M     10000  Free    0.0       Everyone   \n",
       "1      967   14M    500000  Free    0.0       Everyone   \n",
       "2    87510  8.7M   5000000  Free    0.0       Everyone   \n",
       "\n",
       "                      Genres Last_Updated Current_Ver   Android_Ver  \n",
       "0               Art & Design    07-Jan-18       1.0.0  4.0.3 and up  \n",
       "1  Art & Design;Pretend Play    15-Jan-18       2.0.0  4.0.3 and up  \n",
       "2               Art & Design    01-Aug-18       1.2.4  4.0.3 and up  "
      ]
     },
     "execution_count": 203,
     "metadata": {},
     "output_type": "execute_result"
    }
   ],
   "source": [
    "df.head(3)"
   ]
  },
  {
   "cell_type": "code",
   "execution_count": 204,
   "id": "4572ce77",
   "metadata": {},
   "outputs": [
    {
     "data": {
      "text/html": [
       "<div>\n",
       "<style scoped>\n",
       "    .dataframe tbody tr th:only-of-type {\n",
       "        vertical-align: middle;\n",
       "    }\n",
       "\n",
       "    .dataframe tbody tr th {\n",
       "        vertical-align: top;\n",
       "    }\n",
       "\n",
       "    .dataframe thead th {\n",
       "        text-align: right;\n",
       "    }\n",
       "</style>\n",
       "<table border=\"1\" class=\"dataframe\">\n",
       "  <thead>\n",
       "    <tr style=\"text-align: right;\">\n",
       "      <th></th>\n",
       "      <th>Rating</th>\n",
       "      <th>App</th>\n",
       "      <th>Category</th>\n",
       "      <th>Reviews</th>\n",
       "      <th>Size</th>\n",
       "      <th>Installs</th>\n",
       "      <th>Type</th>\n",
       "      <th>Price</th>\n",
       "      <th>Content_Rating</th>\n",
       "      <th>Genres</th>\n",
       "      <th>Last_Updated</th>\n",
       "      <th>Current_Ver</th>\n",
       "      <th>Android_Ver</th>\n",
       "    </tr>\n",
       "  </thead>\n",
       "  <tbody>\n",
       "  </tbody>\n",
       "</table>\n",
       "</div>"
      ],
      "text/plain": [
       "Empty DataFrame\n",
       "Columns: [Rating, App, Category, Reviews, Size, Installs, Type, Price, Content_Rating, Genres, Last_Updated, Current_Ver, Android_Ver]\n",
       "Index: []"
      ]
     },
     "execution_count": 204,
     "metadata": {},
     "output_type": "execute_result"
    }
   ],
   "source": [
    "df[df['Rating']>5]"
   ]
  },
  {
   "cell_type": "markdown",
   "id": "c9e94399",
   "metadata": {},
   "source": [
    "There are no such records which have rating greater than 5, so we don't need to drop anything from the given dataset "
   ]
  },
  {
   "cell_type": "markdown",
   "id": "c177f8e3",
   "metadata": {},
   "source": [
    "# b. Reviews should not be more than installs as only those who installed can review the app."
   ]
  },
  {
   "cell_type": "markdown",
   "id": "7a203e7c",
   "metadata": {},
   "source": [
    "# i. Are there any such records? Drop if so"
   ]
  },
  {
   "cell_type": "code",
   "execution_count": 205,
   "id": "7bf381ea",
   "metadata": {},
   "outputs": [
    {
     "data": {
      "text/html": [
       "<div>\n",
       "<style scoped>\n",
       "    .dataframe tbody tr th:only-of-type {\n",
       "        vertical-align: middle;\n",
       "    }\n",
       "\n",
       "    .dataframe tbody tr th {\n",
       "        vertical-align: top;\n",
       "    }\n",
       "\n",
       "    .dataframe thead th {\n",
       "        text-align: right;\n",
       "    }\n",
       "</style>\n",
       "<table border=\"1\" class=\"dataframe\">\n",
       "  <thead>\n",
       "    <tr style=\"text-align: right;\">\n",
       "      <th></th>\n",
       "      <th>Rating</th>\n",
       "      <th>App</th>\n",
       "      <th>Category</th>\n",
       "      <th>Reviews</th>\n",
       "      <th>Size</th>\n",
       "      <th>Installs</th>\n",
       "      <th>Type</th>\n",
       "      <th>Price</th>\n",
       "      <th>Content_Rating</th>\n",
       "      <th>Genres</th>\n",
       "      <th>Last_Updated</th>\n",
       "      <th>Current_Ver</th>\n",
       "      <th>Android_Ver</th>\n",
       "    </tr>\n",
       "  </thead>\n",
       "  <tbody>\n",
       "    <tr>\n",
       "      <th>0</th>\n",
       "      <td>4.1</td>\n",
       "      <td>Photo Editor &amp; Candy Camera &amp; Grid &amp; ScrapBook</td>\n",
       "      <td>ART_AND_DESIGN</td>\n",
       "      <td>159</td>\n",
       "      <td>19M</td>\n",
       "      <td>10000</td>\n",
       "      <td>Free</td>\n",
       "      <td>0.0</td>\n",
       "      <td>Everyone</td>\n",
       "      <td>Art &amp; Design</td>\n",
       "      <td>07-Jan-18</td>\n",
       "      <td>1.0.0</td>\n",
       "      <td>4.0.3 and up</td>\n",
       "    </tr>\n",
       "    <tr>\n",
       "      <th>1</th>\n",
       "      <td>3.9</td>\n",
       "      <td>Coloring book moana</td>\n",
       "      <td>ART_AND_DESIGN</td>\n",
       "      <td>967</td>\n",
       "      <td>14M</td>\n",
       "      <td>500000</td>\n",
       "      <td>Free</td>\n",
       "      <td>0.0</td>\n",
       "      <td>Everyone</td>\n",
       "      <td>Art &amp; Design;Pretend Play</td>\n",
       "      <td>15-Jan-18</td>\n",
       "      <td>2.0.0</td>\n",
       "      <td>4.0.3 and up</td>\n",
       "    </tr>\n",
       "  </tbody>\n",
       "</table>\n",
       "</div>"
      ],
      "text/plain": [
       "   Rating                                             App        Category  \\\n",
       "0     4.1  Photo Editor & Candy Camera & Grid & ScrapBook  ART_AND_DESIGN   \n",
       "1     3.9                             Coloring book moana  ART_AND_DESIGN   \n",
       "\n",
       "   Reviews Size  Installs  Type  Price Content_Rating  \\\n",
       "0      159  19M     10000  Free    0.0       Everyone   \n",
       "1      967  14M    500000  Free    0.0       Everyone   \n",
       "\n",
       "                      Genres Last_Updated Current_Ver   Android_Ver  \n",
       "0               Art & Design    07-Jan-18       1.0.0  4.0.3 and up  \n",
       "1  Art & Design;Pretend Play    15-Jan-18       2.0.0  4.0.3 and up  "
      ]
     },
     "execution_count": 205,
     "metadata": {},
     "output_type": "execute_result"
    }
   ],
   "source": [
    "df.head(2)"
   ]
  },
  {
   "cell_type": "code",
   "execution_count": 206,
   "id": "1b2177e1",
   "metadata": {},
   "outputs": [],
   "source": [
    "# changing the type of the Reviews column\n",
    "df['Reviews']=pd.to_numeric(df['Reviews'])"
   ]
  },
  {
   "cell_type": "code",
   "execution_count": 207,
   "id": "b7c5704e",
   "metadata": {},
   "outputs": [
    {
     "data": {
      "text/plain": [
       "7"
      ]
     },
     "execution_count": 207,
     "metadata": {},
     "output_type": "execute_result"
    }
   ],
   "source": [
    "sum(df['Reviews']>df['Installs'])"
   ]
  },
  {
   "cell_type": "code",
   "execution_count": 208,
   "id": "db0d8828",
   "metadata": {},
   "outputs": [
    {
     "data": {
      "text/plain": [
       "Int64Index([2454, 4663, 5917, 6700, 7402, 8591, 10696], dtype='int64')"
      ]
     },
     "execution_count": 208,
     "metadata": {},
     "output_type": "execute_result"
    }
   ],
   "source": [
    "df[df['Reviews']>df['Installs']].index"
   ]
  },
  {
   "cell_type": "code",
   "execution_count": 209,
   "id": "5ed3f485",
   "metadata": {},
   "outputs": [],
   "source": [
    "df.drop(index=df[df['Reviews']>df['Installs']].index,inplace=True)"
   ]
  },
  {
   "cell_type": "code",
   "execution_count": 210,
   "id": "679739ce",
   "metadata": {},
   "outputs": [
    {
     "data": {
      "text/html": [
       "<div>\n",
       "<style scoped>\n",
       "    .dataframe tbody tr th:only-of-type {\n",
       "        vertical-align: middle;\n",
       "    }\n",
       "\n",
       "    .dataframe tbody tr th {\n",
       "        vertical-align: top;\n",
       "    }\n",
       "\n",
       "    .dataframe thead th {\n",
       "        text-align: right;\n",
       "    }\n",
       "</style>\n",
       "<table border=\"1\" class=\"dataframe\">\n",
       "  <thead>\n",
       "    <tr style=\"text-align: right;\">\n",
       "      <th></th>\n",
       "      <th>Rating</th>\n",
       "      <th>App</th>\n",
       "      <th>Category</th>\n",
       "      <th>Reviews</th>\n",
       "      <th>Size</th>\n",
       "      <th>Installs</th>\n",
       "      <th>Type</th>\n",
       "      <th>Price</th>\n",
       "      <th>Content_Rating</th>\n",
       "      <th>Genres</th>\n",
       "      <th>Last_Updated</th>\n",
       "      <th>Current_Ver</th>\n",
       "      <th>Android_Ver</th>\n",
       "    </tr>\n",
       "  </thead>\n",
       "  <tbody>\n",
       "  </tbody>\n",
       "</table>\n",
       "</div>"
      ],
      "text/plain": [
       "Empty DataFrame\n",
       "Columns: [Rating, App, Category, Reviews, Size, Installs, Type, Price, Content_Rating, Genres, Last_Updated, Current_Ver, Android_Ver]\n",
       "Index: []"
      ]
     },
     "execution_count": 210,
     "metadata": {},
     "output_type": "execute_result"
    }
   ],
   "source": [
    "df[df['Reviews']>df['Installs']]"
   ]
  },
  {
   "cell_type": "markdown",
   "id": "27a629c9",
   "metadata": {},
   "source": [
    "After performing the operations, we found 7 such records which were greater than the installs so we droped those records\n",
    "So, now there are no such records that is Review which are greater than the installs"
   ]
  },
  {
   "cell_type": "markdown",
   "id": "dce269ba",
   "metadata": {},
   "source": [
    "# 4. Identify and handle outliers –"
   ]
  },
  {
   "cell_type": "markdown",
   "id": "7541b4fb",
   "metadata": {},
   "source": [
    "# a. Price column"
   ]
  },
  {
   "cell_type": "markdown",
   "id": "18df6ec7",
   "metadata": {},
   "source": [
    "# i. Make suitable plot to identify outliers in price"
   ]
  },
  {
   "cell_type": "code",
   "execution_count": 212,
   "id": "083a1f75",
   "metadata": {},
   "outputs": [
    {
     "data": {
      "image/png": "[encoded data removed]",
      "text/plain": [
       "<Figure size 640x480 with 1 Axes>"
      ]
     },
     "metadata": {},
     "output_type": "display_data"
    }
   ],
   "source": [
    "df.boxplot('Price')\n",
    "plt.show()"
   ]
  },
  {
   "cell_type": "markdown",
   "id": "b59ad735",
   "metadata": {},
   "source": [
    "So, after ploting the boxplot for the Price column, we can see that there are some outliers present in the price column\n",
    "And from this we can assume that, there are outliers beyond value 50"
   ]
  },
  {
   "cell_type": "markdown",
   "id": "86c05510",
   "metadata": {},
   "source": [
    "# ii. Do you expect apps on the play store to cost $200? Check out these cases"
   ]
  },
  {
   "cell_type": "code",
   "execution_count": 213,
   "id": "c505e9f8",
   "metadata": {},
   "outputs": [
    {
     "data": {
      "text/html": [
       "<div>\n",
       "<style scoped>\n",
       "    .dataframe tbody tr th:only-of-type {\n",
       "        vertical-align: middle;\n",
       "    }\n",
       "\n",
       "    .dataframe tbody tr th {\n",
       "        vertical-align: top;\n",
       "    }\n",
       "\n",
       "    .dataframe thead th {\n",
       "        text-align: right;\n",
       "    }\n",
       "</style>\n",
       "<table border=\"1\" class=\"dataframe\">\n",
       "  <thead>\n",
       "    <tr style=\"text-align: right;\">\n",
       "      <th></th>\n",
       "      <th>Rating</th>\n",
       "      <th>App</th>\n",
       "      <th>Category</th>\n",
       "      <th>Reviews</th>\n",
       "      <th>Size</th>\n",
       "      <th>Installs</th>\n",
       "      <th>Type</th>\n",
       "      <th>Price</th>\n",
       "      <th>Content_Rating</th>\n",
       "      <th>Genres</th>\n",
       "      <th>Last_Updated</th>\n",
       "      <th>Current_Ver</th>\n",
       "      <th>Android_Ver</th>\n",
       "    </tr>\n",
       "  </thead>\n",
       "  <tbody>\n",
       "    <tr>\n",
       "      <th>4197</th>\n",
       "      <td>4.3</td>\n",
       "      <td>most expensive app (H)</td>\n",
       "      <td>FAMILY</td>\n",
       "      <td>6</td>\n",
       "      <td>1.5M</td>\n",
       "      <td>100</td>\n",
       "      <td>Paid</td>\n",
       "      <td>399.99</td>\n",
       "      <td>Everyone</td>\n",
       "      <td>Entertainment</td>\n",
       "      <td>16-Jul-18</td>\n",
       "      <td>1</td>\n",
       "      <td>7.0 and up</td>\n",
       "    </tr>\n",
       "    <tr>\n",
       "      <th>4362</th>\n",
       "      <td>3.8</td>\n",
       "      <td>💎 I'm rich</td>\n",
       "      <td>LIFESTYLE</td>\n",
       "      <td>718</td>\n",
       "      <td>26M</td>\n",
       "      <td>10000</td>\n",
       "      <td>Paid</td>\n",
       "      <td>399.99</td>\n",
       "      <td>Everyone</td>\n",
       "      <td>Lifestyle</td>\n",
       "      <td>11-Mar-18</td>\n",
       "      <td>1.0.0</td>\n",
       "      <td>4.4 and up</td>\n",
       "    </tr>\n",
       "    <tr>\n",
       "      <th>4367</th>\n",
       "      <td>3.6</td>\n",
       "      <td>I'm Rich - Trump Edition</td>\n",
       "      <td>LIFESTYLE</td>\n",
       "      <td>275</td>\n",
       "      <td>7.3M</td>\n",
       "      <td>10000</td>\n",
       "      <td>Paid</td>\n",
       "      <td>400.00</td>\n",
       "      <td>Everyone</td>\n",
       "      <td>Lifestyle</td>\n",
       "      <td>03-May-18</td>\n",
       "      <td>1.0.1</td>\n",
       "      <td>4.1 and up</td>\n",
       "    </tr>\n",
       "    <tr>\n",
       "      <th>5351</th>\n",
       "      <td>3.8</td>\n",
       "      <td>I am rich</td>\n",
       "      <td>LIFESTYLE</td>\n",
       "      <td>3547</td>\n",
       "      <td>1.8M</td>\n",
       "      <td>100000</td>\n",
       "      <td>Paid</td>\n",
       "      <td>399.99</td>\n",
       "      <td>Everyone</td>\n",
       "      <td>Lifestyle</td>\n",
       "      <td>12-Jan-18</td>\n",
       "      <td>2</td>\n",
       "      <td>4.0.3 and up</td>\n",
       "    </tr>\n",
       "    <tr>\n",
       "      <th>5354</th>\n",
       "      <td>4.0</td>\n",
       "      <td>I am Rich Plus</td>\n",
       "      <td>FAMILY</td>\n",
       "      <td>856</td>\n",
       "      <td>8.7M</td>\n",
       "      <td>10000</td>\n",
       "      <td>Paid</td>\n",
       "      <td>399.99</td>\n",
       "      <td>Everyone</td>\n",
       "      <td>Entertainment</td>\n",
       "      <td>19-May-18</td>\n",
       "      <td>3</td>\n",
       "      <td>4.4 and up</td>\n",
       "    </tr>\n",
       "    <tr>\n",
       "      <th>5355</th>\n",
       "      <td>3.8</td>\n",
       "      <td>I am rich VIP</td>\n",
       "      <td>LIFESTYLE</td>\n",
       "      <td>411</td>\n",
       "      <td>2.6M</td>\n",
       "      <td>10000</td>\n",
       "      <td>Paid</td>\n",
       "      <td>299.99</td>\n",
       "      <td>Everyone</td>\n",
       "      <td>Lifestyle</td>\n",
       "      <td>21-Jul-18</td>\n",
       "      <td>1.1.1</td>\n",
       "      <td>4.3 and up</td>\n",
       "    </tr>\n",
       "    <tr>\n",
       "      <th>5356</th>\n",
       "      <td>4.1</td>\n",
       "      <td>I Am Rich Premium</td>\n",
       "      <td>FINANCE</td>\n",
       "      <td>1867</td>\n",
       "      <td>4.7M</td>\n",
       "      <td>50000</td>\n",
       "      <td>Paid</td>\n",
       "      <td>399.99</td>\n",
       "      <td>Everyone</td>\n",
       "      <td>Finance</td>\n",
       "      <td>12-Nov-17</td>\n",
       "      <td>1.6</td>\n",
       "      <td>4.0 and up</td>\n",
       "    </tr>\n",
       "    <tr>\n",
       "      <th>5357</th>\n",
       "      <td>2.9</td>\n",
       "      <td>I am extremely Rich</td>\n",
       "      <td>LIFESTYLE</td>\n",
       "      <td>41</td>\n",
       "      <td>2.9M</td>\n",
       "      <td>1000</td>\n",
       "      <td>Paid</td>\n",
       "      <td>379.99</td>\n",
       "      <td>Everyone</td>\n",
       "      <td>Lifestyle</td>\n",
       "      <td>01-Jul-18</td>\n",
       "      <td>1</td>\n",
       "      <td>4.0 and up</td>\n",
       "    </tr>\n",
       "    <tr>\n",
       "      <th>5358</th>\n",
       "      <td>3.8</td>\n",
       "      <td>I am Rich!</td>\n",
       "      <td>FINANCE</td>\n",
       "      <td>93</td>\n",
       "      <td>22M</td>\n",
       "      <td>1000</td>\n",
       "      <td>Paid</td>\n",
       "      <td>399.99</td>\n",
       "      <td>Everyone</td>\n",
       "      <td>Finance</td>\n",
       "      <td>11-Dec-17</td>\n",
       "      <td>1</td>\n",
       "      <td>4.1 and up</td>\n",
       "    </tr>\n",
       "    <tr>\n",
       "      <th>5359</th>\n",
       "      <td>3.5</td>\n",
       "      <td>I am rich(premium)</td>\n",
       "      <td>FINANCE</td>\n",
       "      <td>472</td>\n",
       "      <td>965k</td>\n",
       "      <td>5000</td>\n",
       "      <td>Paid</td>\n",
       "      <td>399.99</td>\n",
       "      <td>Everyone</td>\n",
       "      <td>Finance</td>\n",
       "      <td>01-May-17</td>\n",
       "      <td>3.4</td>\n",
       "      <td>4.4 and up</td>\n",
       "    </tr>\n",
       "    <tr>\n",
       "      <th>5362</th>\n",
       "      <td>4.4</td>\n",
       "      <td>I Am Rich Pro</td>\n",
       "      <td>FAMILY</td>\n",
       "      <td>201</td>\n",
       "      <td>2.7M</td>\n",
       "      <td>5000</td>\n",
       "      <td>Paid</td>\n",
       "      <td>399.99</td>\n",
       "      <td>Everyone</td>\n",
       "      <td>Entertainment</td>\n",
       "      <td>30-May-17</td>\n",
       "      <td>1.54</td>\n",
       "      <td>1.6 and up</td>\n",
       "    </tr>\n",
       "    <tr>\n",
       "      <th>5364</th>\n",
       "      <td>4.1</td>\n",
       "      <td>I am rich (Most expensive app)</td>\n",
       "      <td>FINANCE</td>\n",
       "      <td>129</td>\n",
       "      <td>2.7M</td>\n",
       "      <td>1000</td>\n",
       "      <td>Paid</td>\n",
       "      <td>399.99</td>\n",
       "      <td>Teen</td>\n",
       "      <td>Finance</td>\n",
       "      <td>06-Dec-17</td>\n",
       "      <td>2</td>\n",
       "      <td>4.0.3 and up</td>\n",
       "    </tr>\n",
       "    <tr>\n",
       "      <th>5366</th>\n",
       "      <td>3.6</td>\n",
       "      <td>I Am Rich</td>\n",
       "      <td>FAMILY</td>\n",
       "      <td>217</td>\n",
       "      <td>4.9M</td>\n",
       "      <td>10000</td>\n",
       "      <td>Paid</td>\n",
       "      <td>389.99</td>\n",
       "      <td>Everyone</td>\n",
       "      <td>Entertainment</td>\n",
       "      <td>22-Jun-18</td>\n",
       "      <td>1.5</td>\n",
       "      <td>4.2 and up</td>\n",
       "    </tr>\n",
       "    <tr>\n",
       "      <th>5369</th>\n",
       "      <td>4.3</td>\n",
       "      <td>I am Rich</td>\n",
       "      <td>FINANCE</td>\n",
       "      <td>180</td>\n",
       "      <td>3.8M</td>\n",
       "      <td>5000</td>\n",
       "      <td>Paid</td>\n",
       "      <td>399.99</td>\n",
       "      <td>Everyone</td>\n",
       "      <td>Finance</td>\n",
       "      <td>22-Mar-18</td>\n",
       "      <td>1</td>\n",
       "      <td>4.2 and up</td>\n",
       "    </tr>\n",
       "    <tr>\n",
       "      <th>5373</th>\n",
       "      <td>4.0</td>\n",
       "      <td>I AM RICH PRO PLUS</td>\n",
       "      <td>FINANCE</td>\n",
       "      <td>36</td>\n",
       "      <td>41M</td>\n",
       "      <td>1000</td>\n",
       "      <td>Paid</td>\n",
       "      <td>399.99</td>\n",
       "      <td>Everyone</td>\n",
       "      <td>Finance</td>\n",
       "      <td>25-Jun-18</td>\n",
       "      <td>1.0.2</td>\n",
       "      <td>4.1 and up</td>\n",
       "    </tr>\n",
       "  </tbody>\n",
       "</table>\n",
       "</div>"
      ],
      "text/plain": [
       "      Rating                             App   Category  Reviews  Size  \\\n",
       "4197     4.3          most expensive app (H)     FAMILY        6  1.5M   \n",
       "4362     3.8                      💎 I'm rich  LIFESTYLE      718   26M   \n",
       "4367     3.6        I'm Rich - Trump Edition  LIFESTYLE      275  7.3M   \n",
       "5351     3.8                       I am rich  LIFESTYLE     3547  1.8M   \n",
       "5354     4.0                  I am Rich Plus     FAMILY      856  8.7M   \n",
       "5355     3.8                   I am rich VIP  LIFESTYLE      411  2.6M   \n",
       "5356     4.1               I Am Rich Premium    FINANCE     1867  4.7M   \n",
       "5357     2.9             I am extremely Rich  LIFESTYLE       41  2.9M   \n",
       "5358     3.8                      I am Rich!    FINANCE       93   22M   \n",
       "5359     3.5              I am rich(premium)    FINANCE      472  965k   \n",
       "5362     4.4                   I Am Rich Pro     FAMILY      201  2.7M   \n",
       "5364     4.1  I am rich (Most expensive app)    FINANCE      129  2.7M   \n",
       "5366     3.6                       I Am Rich     FAMILY      217  4.9M   \n",
       "5369     4.3                       I am Rich    FINANCE      180  3.8M   \n",
       "5373     4.0              I AM RICH PRO PLUS    FINANCE       36   41M   \n",
       "\n",
       "      Installs  Type   Price Content_Rating         Genres Last_Updated  \\\n",
       "4197       100  Paid  399.99       Everyone  Entertainment    16-Jul-18   \n",
       "4362     10000  Paid  399.99       Everyone      Lifestyle    11-Mar-18   \n",
       "4367     10000  Paid  400.00       Everyone      Lifestyle    03-May-18   \n",
       "5351    100000  Paid  399.99       Everyone      Lifestyle    12-Jan-18   \n",
       "5354     10000  Paid  399.99       Everyone  Entertainment    19-May-18   \n",
       "5355     10000  Paid  299.99       Everyone      Lifestyle    21-Jul-18   \n",
       "5356     50000  Paid  399.99       Everyone        Finance    12-Nov-17   \n",
       "5357      1000  Paid  379.99       Everyone      Lifestyle    01-Jul-18   \n",
       "5358      1000  Paid  399.99       Everyone        Finance    11-Dec-17   \n",
       "5359      5000  Paid  399.99       Everyone        Finance    01-May-17   \n",
       "5362      5000  Paid  399.99       Everyone  Entertainment    30-May-17   \n",
       "5364      1000  Paid  399.99           Teen        Finance    06-Dec-17   \n",
       "5366     10000  Paid  389.99       Everyone  Entertainment    22-Jun-18   \n",
       "5369      5000  Paid  399.99       Everyone        Finance    22-Mar-18   \n",
       "5373      1000  Paid  399.99       Everyone        Finance    25-Jun-18   \n",
       "\n",
       "     Current_Ver   Android_Ver  \n",
       "4197           1    7.0 and up  \n",
       "4362       1.0.0    4.4 and up  \n",
       "4367       1.0.1    4.1 and up  \n",
       "5351           2  4.0.3 and up  \n",
       "5354           3    4.4 and up  \n",
       "5355       1.1.1    4.3 and up  \n",
       "5356         1.6    4.0 and up  \n",
       "5357           1    4.0 and up  \n",
       "5358           1    4.1 and up  \n",
       "5359         3.4    4.4 and up  \n",
       "5362        1.54    1.6 and up  \n",
       "5364           2  4.0.3 and up  \n",
       "5366         1.5    4.2 and up  \n",
       "5369           1    4.2 and up  \n",
       "5373       1.0.2    4.1 and up  "
      ]
     },
     "execution_count": 213,
     "metadata": {},
     "output_type": "execute_result"
    }
   ],
   "source": [
    "df[df['Price']>200]"
   ]
  },
  {
   "cell_type": "code",
   "execution_count": 214,
   "id": "b560c0cb",
   "metadata": {},
   "outputs": [
    {
     "data": {
      "text/plain": [
       "15"
      ]
     },
     "execution_count": 214,
     "metadata": {},
     "output_type": "execute_result"
    }
   ],
   "source": [
    "sum(df['Price']>200)"
   ]
  },
  {
   "cell_type": "code",
   "execution_count": 215,
   "id": "82df5271",
   "metadata": {},
   "outputs": [
    {
     "data": {
      "text/plain": [
       "Int64Index([4197, 4362, 4367, 5351, 5354, 5355, 5356, 5357, 5358, 5359, 5362,\n",
       "            5364, 5366, 5369, 5373],\n",
       "           dtype='int64')"
      ]
     },
     "execution_count": 215,
     "metadata": {},
     "output_type": "execute_result"
    }
   ],
   "source": [
    "df[df['Price']>200].index"
   ]
  },
  {
   "cell_type": "code",
   "execution_count": 216,
   "id": "febeb891",
   "metadata": {},
   "outputs": [],
   "source": [
    "df.drop(index=df[df['Price']>200].index,inplace=True)"
   ]
  },
  {
   "cell_type": "code",
   "execution_count": 217,
   "id": "abce98cf",
   "metadata": {},
   "outputs": [
    {
     "data": {
      "text/html": [
       "<div>\n",
       "<style scoped>\n",
       "    .dataframe tbody tr th:only-of-type {\n",
       "        vertical-align: middle;\n",
       "    }\n",
       "\n",
       "    .dataframe tbody tr th {\n",
       "        vertical-align: top;\n",
       "    }\n",
       "\n",
       "    .dataframe thead th {\n",
       "        text-align: right;\n",
       "    }\n",
       "</style>\n",
       "<table border=\"1\" class=\"dataframe\">\n",
       "  <thead>\n",
       "    <tr style=\"text-align: right;\">\n",
       "      <th></th>\n",
       "      <th>Rating</th>\n",
       "      <th>App</th>\n",
       "      <th>Category</th>\n",
       "      <th>Reviews</th>\n",
       "      <th>Size</th>\n",
       "      <th>Installs</th>\n",
       "      <th>Type</th>\n",
       "      <th>Price</th>\n",
       "      <th>Content_Rating</th>\n",
       "      <th>Genres</th>\n",
       "      <th>Last_Updated</th>\n",
       "      <th>Current_Ver</th>\n",
       "      <th>Android_Ver</th>\n",
       "    </tr>\n",
       "  </thead>\n",
       "  <tbody>\n",
       "  </tbody>\n",
       "</table>\n",
       "</div>"
      ],
      "text/plain": [
       "Empty DataFrame\n",
       "Columns: [Rating, App, Category, Reviews, Size, Installs, Type, Price, Content_Rating, Genres, Last_Updated, Current_Ver, Android_Ver]\n",
       "Index: []"
      ]
     },
     "execution_count": 217,
     "metadata": {},
     "output_type": "execute_result"
    }
   ],
   "source": [
    "df[df['Price']>200]"
   ]
  },
  {
   "cell_type": "markdown",
   "id": "ce7f6a71",
   "metadata": {},
   "source": [
    "Here we have droped the records which are greater than 200 (cost more than 200)"
   ]
  },
  {
   "cell_type": "markdown",
   "id": "2184a589",
   "metadata": {},
   "source": [
    "# iii. After dropping the useless records, make the suitable plot again to identify outliers"
   ]
  },
  {
   "cell_type": "code",
   "execution_count": 219,
   "id": "5b7654a1",
   "metadata": {},
   "outputs": [
    {
     "data": {
      "image/png": "[encoded data removed]",
      "text/plain": [
       "<Figure size 640x480 with 1 Axes>"
      ]
     },
     "metadata": {},
     "output_type": "display_data"
    }
   ],
   "source": [
    "df.boxplot('Price')\n",
    "plt.show()"
   ]
  },
  {
   "cell_type": "markdown",
   "id": "f70bf09d",
   "metadata": {},
   "source": [
    "After ploting the boxplot for the price column, we got some outliers which we can see and we can say that the outliers \n",
    "are beyond 50 or we can also say that there are outliers beyond the average line so we can also drop that "
   ]
  },
  {
   "cell_type": "markdown",
   "id": "35082b91",
   "metadata": {},
   "source": [
    "# iv. Limit data to records with price < $30"
   ]
  },
  {
   "cell_type": "code",
   "execution_count": 220,
   "id": "7c978a80",
   "metadata": {},
   "outputs": [
    {
     "data": {
      "text/plain": [
       "9338"
      ]
     },
     "execution_count": 220,
     "metadata": {},
     "output_type": "execute_result"
    }
   ],
   "source": [
    "sum(df['Price']<30)"
   ]
  },
  {
   "cell_type": "markdown",
   "id": "bfa781b2",
   "metadata": {},
   "source": [
    "# b. Reviews column"
   ]
  },
  {
   "cell_type": "markdown",
   "id": "035b9113",
   "metadata": {},
   "source": [
    "# i. Make suitable plot"
   ]
  },
  {
   "cell_type": "code",
   "execution_count": 221,
   "id": "9a6af3c8",
   "metadata": {},
   "outputs": [
    {
     "data": {
      "image/png": "[encoded data removed]",
      "text/plain": [
       "<Figure size 640x480 with 1 Axes>"
      ]
     },
     "metadata": {},
     "output_type": "display_data"
    }
   ],
   "source": [
    "h=df['Reviews']\n",
    "plt.hist(h)\n",
    "plt.show()"
   ]
  },
  {
   "cell_type": "markdown",
   "id": "f140fbe3",
   "metadata": {},
   "source": [
    "# ii. Limit data to apps with < 1 Million reviews"
   ]
  },
  {
   "cell_type": "code",
   "execution_count": 222,
   "id": "d3b6f54a",
   "metadata": {},
   "outputs": [
    {
     "data": {
      "text/html": [
       "<div>\n",
       "<style scoped>\n",
       "    .dataframe tbody tr th:only-of-type {\n",
       "        vertical-align: middle;\n",
       "    }\n",
       "\n",
       "    .dataframe tbody tr th {\n",
       "        vertical-align: top;\n",
       "    }\n",
       "\n",
       "    .dataframe thead th {\n",
       "        text-align: right;\n",
       "    }\n",
       "</style>\n",
       "<table border=\"1\" class=\"dataframe\">\n",
       "  <thead>\n",
       "    <tr style=\"text-align: right;\">\n",
       "      <th></th>\n",
       "      <th>Rating</th>\n",
       "      <th>App</th>\n",
       "      <th>Category</th>\n",
       "      <th>Reviews</th>\n",
       "      <th>Size</th>\n",
       "      <th>Installs</th>\n",
       "      <th>Type</th>\n",
       "      <th>Price</th>\n",
       "      <th>Content_Rating</th>\n",
       "      <th>Genres</th>\n",
       "      <th>Last_Updated</th>\n",
       "      <th>Current_Ver</th>\n",
       "      <th>Android_Ver</th>\n",
       "    </tr>\n",
       "  </thead>\n",
       "  <tbody>\n",
       "    <tr>\n",
       "      <th>0</th>\n",
       "      <td>4.1</td>\n",
       "      <td>Photo Editor &amp; Candy Camera &amp; Grid &amp; ScrapBook</td>\n",
       "      <td>ART_AND_DESIGN</td>\n",
       "      <td>159</td>\n",
       "      <td>19M</td>\n",
       "      <td>10000</td>\n",
       "      <td>Free</td>\n",
       "      <td>0.0</td>\n",
       "      <td>Everyone</td>\n",
       "      <td>Art &amp; Design</td>\n",
       "      <td>07-Jan-18</td>\n",
       "      <td>1.0.0</td>\n",
       "      <td>4.0.3 and up</td>\n",
       "    </tr>\n",
       "    <tr>\n",
       "      <th>1</th>\n",
       "      <td>3.9</td>\n",
       "      <td>Coloring book moana</td>\n",
       "      <td>ART_AND_DESIGN</td>\n",
       "      <td>967</td>\n",
       "      <td>14M</td>\n",
       "      <td>500000</td>\n",
       "      <td>Free</td>\n",
       "      <td>0.0</td>\n",
       "      <td>Everyone</td>\n",
       "      <td>Art &amp; Design;Pretend Play</td>\n",
       "      <td>15-Jan-18</td>\n",
       "      <td>2.0.0</td>\n",
       "      <td>4.0.3 and up</td>\n",
       "    </tr>\n",
       "    <tr>\n",
       "      <th>2</th>\n",
       "      <td>4.7</td>\n",
       "      <td>U Launcher Lite – FREE Live Cool Themes, Hide ...</td>\n",
       "      <td>ART_AND_DESIGN</td>\n",
       "      <td>87510</td>\n",
       "      <td>8.7M</td>\n",
       "      <td>5000000</td>\n",
       "      <td>Free</td>\n",
       "      <td>0.0</td>\n",
       "      <td>Everyone</td>\n",
       "      <td>Art &amp; Design</td>\n",
       "      <td>01-Aug-18</td>\n",
       "      <td>1.2.4</td>\n",
       "      <td>4.0.3 and up</td>\n",
       "    </tr>\n",
       "  </tbody>\n",
       "</table>\n",
       "</div>"
      ],
      "text/plain": [
       "   Rating                                                App        Category  \\\n",
       "0     4.1     Photo Editor & Candy Camera & Grid & ScrapBook  ART_AND_DESIGN   \n",
       "1     3.9                                Coloring book moana  ART_AND_DESIGN   \n",
       "2     4.7  U Launcher Lite – FREE Live Cool Themes, Hide ...  ART_AND_DESIGN   \n",
       "\n",
       "   Reviews  Size  Installs  Type  Price Content_Rating  \\\n",
       "0      159   19M     10000  Free    0.0       Everyone   \n",
       "1      967   14M    500000  Free    0.0       Everyone   \n",
       "2    87510  8.7M   5000000  Free    0.0       Everyone   \n",
       "\n",
       "                      Genres Last_Updated Current_Ver   Android_Ver  \n",
       "0               Art & Design    07-Jan-18       1.0.0  4.0.3 and up  \n",
       "1  Art & Design;Pretend Play    15-Jan-18       2.0.0  4.0.3 and up  \n",
       "2               Art & Design    01-Aug-18       1.2.4  4.0.3 and up  "
      ]
     },
     "execution_count": 222,
     "metadata": {},
     "output_type": "execute_result"
    }
   ],
   "source": [
    "df.head(3)"
   ]
  },
  {
   "cell_type": "code",
   "execution_count": 223,
   "id": "67204049",
   "metadata": {},
   "outputs": [
    {
     "data": {
      "text/html": [
       "<div>\n",
       "<style scoped>\n",
       "    .dataframe tbody tr th:only-of-type {\n",
       "        vertical-align: middle;\n",
       "    }\n",
       "\n",
       "    .dataframe tbody tr th {\n",
       "        vertical-align: top;\n",
       "    }\n",
       "\n",
       "    .dataframe thead th {\n",
       "        text-align: right;\n",
       "    }\n",
       "</style>\n",
       "<table border=\"1\" class=\"dataframe\">\n",
       "  <thead>\n",
       "    <tr style=\"text-align: right;\">\n",
       "      <th></th>\n",
       "      <th>Rating</th>\n",
       "      <th>App</th>\n",
       "      <th>Category</th>\n",
       "      <th>Reviews</th>\n",
       "      <th>Size</th>\n",
       "      <th>Installs</th>\n",
       "      <th>Type</th>\n",
       "      <th>Price</th>\n",
       "      <th>Content_Rating</th>\n",
       "      <th>Genres</th>\n",
       "      <th>Last_Updated</th>\n",
       "      <th>Current_Ver</th>\n",
       "      <th>Android_Ver</th>\n",
       "    </tr>\n",
       "  </thead>\n",
       "  <tbody>\n",
       "    <tr>\n",
       "      <th>0</th>\n",
       "      <td>4.1</td>\n",
       "      <td>Photo Editor &amp; Candy Camera &amp; Grid &amp; ScrapBook</td>\n",
       "      <td>ART_AND_DESIGN</td>\n",
       "      <td>159</td>\n",
       "      <td>19M</td>\n",
       "      <td>10000</td>\n",
       "      <td>Free</td>\n",
       "      <td>0.0</td>\n",
       "      <td>Everyone</td>\n",
       "      <td>Art &amp; Design</td>\n",
       "      <td>07-Jan-18</td>\n",
       "      <td>1.0.0</td>\n",
       "      <td>4.0.3 and up</td>\n",
       "    </tr>\n",
       "    <tr>\n",
       "      <th>1</th>\n",
       "      <td>3.9</td>\n",
       "      <td>Coloring book moana</td>\n",
       "      <td>ART_AND_DESIGN</td>\n",
       "      <td>967</td>\n",
       "      <td>14M</td>\n",
       "      <td>500000</td>\n",
       "      <td>Free</td>\n",
       "      <td>0.0</td>\n",
       "      <td>Everyone</td>\n",
       "      <td>Art &amp; Design;Pretend Play</td>\n",
       "      <td>15-Jan-18</td>\n",
       "      <td>2.0.0</td>\n",
       "      <td>4.0.3 and up</td>\n",
       "    </tr>\n",
       "    <tr>\n",
       "      <th>2</th>\n",
       "      <td>4.7</td>\n",
       "      <td>U Launcher Lite – FREE Live Cool Themes, Hide ...</td>\n",
       "      <td>ART_AND_DESIGN</td>\n",
       "      <td>87510</td>\n",
       "      <td>8.7M</td>\n",
       "      <td>5000000</td>\n",
       "      <td>Free</td>\n",
       "      <td>0.0</td>\n",
       "      <td>Everyone</td>\n",
       "      <td>Art &amp; Design</td>\n",
       "      <td>01-Aug-18</td>\n",
       "      <td>1.2.4</td>\n",
       "      <td>4.0.3 and up</td>\n",
       "    </tr>\n",
       "    <tr>\n",
       "      <th>3</th>\n",
       "      <td>4.5</td>\n",
       "      <td>Sketch - Draw &amp; Paint</td>\n",
       "      <td>ART_AND_DESIGN</td>\n",
       "      <td>215644</td>\n",
       "      <td>25M</td>\n",
       "      <td>50000000</td>\n",
       "      <td>Free</td>\n",
       "      <td>0.0</td>\n",
       "      <td>Teen</td>\n",
       "      <td>Art &amp; Design</td>\n",
       "      <td>08-Jun-18</td>\n",
       "      <td>Varies with device</td>\n",
       "      <td>4.2 and up</td>\n",
       "    </tr>\n",
       "    <tr>\n",
       "      <th>4</th>\n",
       "      <td>4.3</td>\n",
       "      <td>Pixel Draw - Number Art Coloring Book</td>\n",
       "      <td>ART_AND_DESIGN</td>\n",
       "      <td>967</td>\n",
       "      <td>2.8M</td>\n",
       "      <td>100000</td>\n",
       "      <td>Free</td>\n",
       "      <td>0.0</td>\n",
       "      <td>Everyone</td>\n",
       "      <td>Art &amp; Design;Creativity</td>\n",
       "      <td>20-Jun-18</td>\n",
       "      <td>1.1</td>\n",
       "      <td>4.4 and up</td>\n",
       "    </tr>\n",
       "    <tr>\n",
       "      <th>...</th>\n",
       "      <td>...</td>\n",
       "      <td>...</td>\n",
       "      <td>...</td>\n",
       "      <td>...</td>\n",
       "      <td>...</td>\n",
       "      <td>...</td>\n",
       "      <td>...</td>\n",
       "      <td>...</td>\n",
       "      <td>...</td>\n",
       "      <td>...</td>\n",
       "      <td>...</td>\n",
       "      <td>...</td>\n",
       "      <td>...</td>\n",
       "    </tr>\n",
       "    <tr>\n",
       "      <th>10833</th>\n",
       "      <td>4.0</td>\n",
       "      <td>FR Calculator</td>\n",
       "      <td>FAMILY</td>\n",
       "      <td>7</td>\n",
       "      <td>2.6M</td>\n",
       "      <td>500</td>\n",
       "      <td>Free</td>\n",
       "      <td>0.0</td>\n",
       "      <td>Everyone</td>\n",
       "      <td>Education</td>\n",
       "      <td>18-Jun-17</td>\n",
       "      <td>1.0.0</td>\n",
       "      <td>4.1 and up</td>\n",
       "    </tr>\n",
       "    <tr>\n",
       "      <th>10835</th>\n",
       "      <td>4.5</td>\n",
       "      <td>Sya9a Maroc - FR</td>\n",
       "      <td>FAMILY</td>\n",
       "      <td>38</td>\n",
       "      <td>53M</td>\n",
       "      <td>5000</td>\n",
       "      <td>Free</td>\n",
       "      <td>0.0</td>\n",
       "      <td>Everyone</td>\n",
       "      <td>Education</td>\n",
       "      <td>25-Jul-17</td>\n",
       "      <td>1.48</td>\n",
       "      <td>4.1 and up</td>\n",
       "    </tr>\n",
       "    <tr>\n",
       "      <th>10836</th>\n",
       "      <td>5.0</td>\n",
       "      <td>Fr. Mike Schmitz Audio Teachings</td>\n",
       "      <td>FAMILY</td>\n",
       "      <td>4</td>\n",
       "      <td>3.6M</td>\n",
       "      <td>100</td>\n",
       "      <td>Free</td>\n",
       "      <td>0.0</td>\n",
       "      <td>Everyone</td>\n",
       "      <td>Education</td>\n",
       "      <td>06-Jul-18</td>\n",
       "      <td>1</td>\n",
       "      <td>4.1 and up</td>\n",
       "    </tr>\n",
       "    <tr>\n",
       "      <th>10838</th>\n",
       "      <td>4.5</td>\n",
       "      <td>The SCP Foundation DB fr nn5n</td>\n",
       "      <td>BOOKS_AND_REFERENCE</td>\n",
       "      <td>114</td>\n",
       "      <td>Varies with device</td>\n",
       "      <td>1000</td>\n",
       "      <td>Free</td>\n",
       "      <td>0.0</td>\n",
       "      <td>Mature 17+</td>\n",
       "      <td>Books &amp; Reference</td>\n",
       "      <td>19-Jan-15</td>\n",
       "      <td>Varies with device</td>\n",
       "      <td>Varies with device</td>\n",
       "    </tr>\n",
       "    <tr>\n",
       "      <th>10839</th>\n",
       "      <td>4.5</td>\n",
       "      <td>iHoroscope - 2018 Daily Horoscope &amp; Astrology</td>\n",
       "      <td>LIFESTYLE</td>\n",
       "      <td>398307</td>\n",
       "      <td>19M</td>\n",
       "      <td>10000000</td>\n",
       "      <td>Free</td>\n",
       "      <td>0.0</td>\n",
       "      <td>Everyone</td>\n",
       "      <td>Lifestyle</td>\n",
       "      <td>25-Jul-18</td>\n",
       "      <td>Varies with device</td>\n",
       "      <td>Varies with device</td>\n",
       "    </tr>\n",
       "  </tbody>\n",
       "</table>\n",
       "<p>8640 rows × 13 columns</p>\n",
       "</div>"
      ],
      "text/plain": [
       "       Rating                                                App  \\\n",
       "0         4.1     Photo Editor & Candy Camera & Grid & ScrapBook   \n",
       "1         3.9                                Coloring book moana   \n",
       "2         4.7  U Launcher Lite – FREE Live Cool Themes, Hide ...   \n",
       "3         4.5                              Sketch - Draw & Paint   \n",
       "4         4.3              Pixel Draw - Number Art Coloring Book   \n",
       "...       ...                                                ...   \n",
       "10833     4.0                                      FR Calculator   \n",
       "10835     4.5                                   Sya9a Maroc - FR   \n",
       "10836     5.0                   Fr. Mike Schmitz Audio Teachings   \n",
       "10838     4.5                      The SCP Foundation DB fr nn5n   \n",
       "10839     4.5      iHoroscope - 2018 Daily Horoscope & Astrology   \n",
       "\n",
       "                  Category  Reviews                Size  Installs  Type  \\\n",
       "0           ART_AND_DESIGN      159                 19M     10000  Free   \n",
       "1           ART_AND_DESIGN      967                 14M    500000  Free   \n",
       "2           ART_AND_DESIGN    87510                8.7M   5000000  Free   \n",
       "3           ART_AND_DESIGN   215644                 25M  50000000  Free   \n",
       "4           ART_AND_DESIGN      967                2.8M    100000  Free   \n",
       "...                    ...      ...                 ...       ...   ...   \n",
       "10833               FAMILY        7                2.6M       500  Free   \n",
       "10835               FAMILY       38                 53M      5000  Free   \n",
       "10836               FAMILY        4                3.6M       100  Free   \n",
       "10838  BOOKS_AND_REFERENCE      114  Varies with device      1000  Free   \n",
       "10839            LIFESTYLE   398307                 19M  10000000  Free   \n",
       "\n",
       "       Price Content_Rating                     Genres Last_Updated  \\\n",
       "0        0.0       Everyone               Art & Design    07-Jan-18   \n",
       "1        0.0       Everyone  Art & Design;Pretend Play    15-Jan-18   \n",
       "2        0.0       Everyone               Art & Design    01-Aug-18   \n",
       "3        0.0           Teen               Art & Design    08-Jun-18   \n",
       "4        0.0       Everyone    Art & Design;Creativity    20-Jun-18   \n",
       "...      ...            ...                        ...          ...   \n",
       "10833    0.0       Everyone                  Education    18-Jun-17   \n",
       "10835    0.0       Everyone                  Education    25-Jul-17   \n",
       "10836    0.0       Everyone                  Education    06-Jul-18   \n",
       "10838    0.0     Mature 17+          Books & Reference    19-Jan-15   \n",
       "10839    0.0       Everyone                  Lifestyle    25-Jul-18   \n",
       "\n",
       "              Current_Ver         Android_Ver  \n",
       "0                   1.0.0        4.0.3 and up  \n",
       "1                   2.0.0        4.0.3 and up  \n",
       "2                   1.2.4        4.0.3 and up  \n",
       "3      Varies with device          4.2 and up  \n",
       "4                     1.1          4.4 and up  \n",
       "...                   ...                 ...  \n",
       "10833               1.0.0          4.1 and up  \n",
       "10835                1.48          4.1 and up  \n",
       "10836                   1          4.1 and up  \n",
       "10838  Varies with device  Varies with device  \n",
       "10839  Varies with device  Varies with device  \n",
       "\n",
       "[8640 rows x 13 columns]"
      ]
     },
     "execution_count": 223,
     "metadata": {},
     "output_type": "execute_result"
    }
   ],
   "source": [
    "df[df['Reviews']<1000000]"
   ]
  },
  {
   "cell_type": "code",
   "execution_count": 53,
   "id": "6fad55f6",
   "metadata": {},
   "outputs": [
    {
     "data": {
      "text/plain": [
       "8640"
      ]
     },
     "execution_count": 53,
     "metadata": {},
     "output_type": "execute_result"
    }
   ],
   "source": [
    "sum(df['Reviews']<1000000)"
   ]
  },
  {
   "cell_type": "markdown",
   "id": "cebc93fe",
   "metadata": {},
   "source": [
    "# c. Installs"
   ]
  },
  {
   "cell_type": "markdown",
   "id": "58bb3de6",
   "metadata": {},
   "source": [
    "# i. What is the 95th percentile of the installs?"
   ]
  },
  {
   "cell_type": "code",
   "execution_count": 224,
   "id": "247221d3",
   "metadata": {},
   "outputs": [
    {
     "data": {
      "text/plain": [
       "100000000.0"
      ]
     },
     "execution_count": 224,
     "metadata": {},
     "output_type": "execute_result"
    }
   ],
   "source": [
    "# getting the values of the Installs column with 95th percentile \n",
    "df['Installs'].quantile(0.95)"
   ]
  },
  {
   "cell_type": "markdown",
   "id": "7a57e76a",
   "metadata": {},
   "source": [
    "# ii. Drop records having a value more than the 95th percentile"
   ]
  },
  {
   "cell_type": "code",
   "execution_count": 225,
   "id": "35286cd6",
   "metadata": {},
   "outputs": [
    {
     "data": {
      "text/plain": [
       "100000000.0"
      ]
     },
     "execution_count": 225,
     "metadata": {},
     "output_type": "execute_result"
    }
   ],
   "source": [
    "df['Installs'].quantile(0.95)"
   ]
  },
  {
   "cell_type": "code",
   "execution_count": 226,
   "id": "6b809709",
   "metadata": {},
   "outputs": [
    {
     "data": {
      "text/html": [
       "<div>\n",
       "<style scoped>\n",
       "    .dataframe tbody tr th:only-of-type {\n",
       "        vertical-align: middle;\n",
       "    }\n",
       "\n",
       "    .dataframe tbody tr th {\n",
       "        vertical-align: top;\n",
       "    }\n",
       "\n",
       "    .dataframe thead th {\n",
       "        text-align: right;\n",
       "    }\n",
       "</style>\n",
       "<table border=\"1\" class=\"dataframe\">\n",
       "  <thead>\n",
       "    <tr style=\"text-align: right;\">\n",
       "      <th></th>\n",
       "      <th>Rating</th>\n",
       "      <th>App</th>\n",
       "      <th>Category</th>\n",
       "      <th>Reviews</th>\n",
       "      <th>Size</th>\n",
       "      <th>Installs</th>\n",
       "      <th>Type</th>\n",
       "      <th>Price</th>\n",
       "      <th>Content_Rating</th>\n",
       "      <th>Genres</th>\n",
       "      <th>Last_Updated</th>\n",
       "      <th>Current_Ver</th>\n",
       "      <th>Android_Ver</th>\n",
       "    </tr>\n",
       "  </thead>\n",
       "  <tbody>\n",
       "    <tr>\n",
       "      <th>152</th>\n",
       "      <td>3.9</td>\n",
       "      <td>Google Play Books</td>\n",
       "      <td>BOOKS_AND_REFERENCE</td>\n",
       "      <td>1433233</td>\n",
       "      <td>Varies with device</td>\n",
       "      <td>1000000000</td>\n",
       "      <td>Free</td>\n",
       "      <td>0.0</td>\n",
       "      <td>Teen</td>\n",
       "      <td>Books &amp; Reference</td>\n",
       "      <td>03-Aug-18</td>\n",
       "      <td>Varies with device</td>\n",
       "      <td>Varies with device</td>\n",
       "    </tr>\n",
       "    <tr>\n",
       "      <th>335</th>\n",
       "      <td>4.0</td>\n",
       "      <td>Messenger – Text and Video Chat for Free</td>\n",
       "      <td>COMMUNICATION</td>\n",
       "      <td>56642847</td>\n",
       "      <td>Varies with device</td>\n",
       "      <td>1000000000</td>\n",
       "      <td>Free</td>\n",
       "      <td>0.0</td>\n",
       "      <td>Everyone</td>\n",
       "      <td>Communication</td>\n",
       "      <td>01-Aug-18</td>\n",
       "      <td>Varies with device</td>\n",
       "      <td>Varies with device</td>\n",
       "    </tr>\n",
       "    <tr>\n",
       "      <th>336</th>\n",
       "      <td>4.4</td>\n",
       "      <td>WhatsApp Messenger</td>\n",
       "      <td>COMMUNICATION</td>\n",
       "      <td>69119316</td>\n",
       "      <td>Varies with device</td>\n",
       "      <td>1000000000</td>\n",
       "      <td>Free</td>\n",
       "      <td>0.0</td>\n",
       "      <td>Everyone</td>\n",
       "      <td>Communication</td>\n",
       "      <td>03-Aug-18</td>\n",
       "      <td>Varies with device</td>\n",
       "      <td>Varies with device</td>\n",
       "    </tr>\n",
       "    <tr>\n",
       "      <th>338</th>\n",
       "      <td>4.3</td>\n",
       "      <td>Google Chrome: Fast &amp; Secure</td>\n",
       "      <td>COMMUNICATION</td>\n",
       "      <td>9642995</td>\n",
       "      <td>Varies with device</td>\n",
       "      <td>1000000000</td>\n",
       "      <td>Free</td>\n",
       "      <td>0.0</td>\n",
       "      <td>Everyone</td>\n",
       "      <td>Communication</td>\n",
       "      <td>01-Aug-18</td>\n",
       "      <td>Varies with device</td>\n",
       "      <td>Varies with device</td>\n",
       "    </tr>\n",
       "    <tr>\n",
       "      <th>340</th>\n",
       "      <td>4.3</td>\n",
       "      <td>Gmail</td>\n",
       "      <td>COMMUNICATION</td>\n",
       "      <td>4604324</td>\n",
       "      <td>Varies with device</td>\n",
       "      <td>1000000000</td>\n",
       "      <td>Free</td>\n",
       "      <td>0.0</td>\n",
       "      <td>Everyone</td>\n",
       "      <td>Communication</td>\n",
       "      <td>02-Aug-18</td>\n",
       "      <td>Varies with device</td>\n",
       "      <td>Varies with device</td>\n",
       "    </tr>\n",
       "    <tr>\n",
       "      <th>...</th>\n",
       "      <td>...</td>\n",
       "      <td>...</td>\n",
       "      <td>...</td>\n",
       "      <td>...</td>\n",
       "      <td>...</td>\n",
       "      <td>...</td>\n",
       "      <td>...</td>\n",
       "      <td>...</td>\n",
       "      <td>...</td>\n",
       "      <td>...</td>\n",
       "      <td>...</td>\n",
       "      <td>...</td>\n",
       "      <td>...</td>\n",
       "    </tr>\n",
       "    <tr>\n",
       "      <th>5395</th>\n",
       "      <td>4.5</td>\n",
       "      <td>Google Photos</td>\n",
       "      <td>PHOTOGRAPHY</td>\n",
       "      <td>10847682</td>\n",
       "      <td>Varies with device</td>\n",
       "      <td>1000000000</td>\n",
       "      <td>Free</td>\n",
       "      <td>0.0</td>\n",
       "      <td>Everyone</td>\n",
       "      <td>Photography</td>\n",
       "      <td>01-Aug-18</td>\n",
       "      <td>Varies with device</td>\n",
       "      <td>Varies with device</td>\n",
       "    </tr>\n",
       "    <tr>\n",
       "      <th>5596</th>\n",
       "      <td>4.3</td>\n",
       "      <td>Samsung Health</td>\n",
       "      <td>HEALTH_AND_FITNESS</td>\n",
       "      <td>480208</td>\n",
       "      <td>70M</td>\n",
       "      <td>500000000</td>\n",
       "      <td>Free</td>\n",
       "      <td>0.0</td>\n",
       "      <td>Everyone</td>\n",
       "      <td>Health &amp; Fitness</td>\n",
       "      <td>31-Jul-18</td>\n",
       "      <td>5.17.2.009</td>\n",
       "      <td>5.0 and up</td>\n",
       "    </tr>\n",
       "    <tr>\n",
       "      <th>5856</th>\n",
       "      <td>4.3</td>\n",
       "      <td>Google Play Games</td>\n",
       "      <td>FAMILY</td>\n",
       "      <td>7168735</td>\n",
       "      <td>Varies with device</td>\n",
       "      <td>1000000000</td>\n",
       "      <td>Free</td>\n",
       "      <td>0.0</td>\n",
       "      <td>Teen</td>\n",
       "      <td>Entertainment</td>\n",
       "      <td>16-Jul-18</td>\n",
       "      <td>Varies with device</td>\n",
       "      <td>Varies with device</td>\n",
       "    </tr>\n",
       "    <tr>\n",
       "      <th>7536</th>\n",
       "      <td>4.7</td>\n",
       "      <td>Security Master - Antivirus, VPN, AppLock, Boo...</td>\n",
       "      <td>TOOLS</td>\n",
       "      <td>24900999</td>\n",
       "      <td>Varies with device</td>\n",
       "      <td>500000000</td>\n",
       "      <td>Free</td>\n",
       "      <td>0.0</td>\n",
       "      <td>Everyone</td>\n",
       "      <td>Tools</td>\n",
       "      <td>04-Aug-18</td>\n",
       "      <td>4.6.6</td>\n",
       "      <td>Varies with device</td>\n",
       "    </tr>\n",
       "    <tr>\n",
       "      <th>9844</th>\n",
       "      <td>3.9</td>\n",
       "      <td>Google News</td>\n",
       "      <td>NEWS_AND_MAGAZINES</td>\n",
       "      <td>878065</td>\n",
       "      <td>13M</td>\n",
       "      <td>1000000000</td>\n",
       "      <td>Free</td>\n",
       "      <td>0.0</td>\n",
       "      <td>Teen</td>\n",
       "      <td>News &amp; Magazines</td>\n",
       "      <td>01-Aug-18</td>\n",
       "      <td>5.2.0</td>\n",
       "      <td>4.4 and up</td>\n",
       "    </tr>\n",
       "  </tbody>\n",
       "</table>\n",
       "<p>130 rows × 13 columns</p>\n",
       "</div>"
      ],
      "text/plain": [
       "      Rating                                                App  \\\n",
       "152      3.9                                  Google Play Books   \n",
       "335      4.0           Messenger – Text and Video Chat for Free   \n",
       "336      4.4                                 WhatsApp Messenger   \n",
       "338      4.3                       Google Chrome: Fast & Secure   \n",
       "340      4.3                                              Gmail   \n",
       "...      ...                                                ...   \n",
       "5395     4.5                                      Google Photos   \n",
       "5596     4.3                                     Samsung Health   \n",
       "5856     4.3                                  Google Play Games   \n",
       "7536     4.7  Security Master - Antivirus, VPN, AppLock, Boo...   \n",
       "9844     3.9                                        Google News   \n",
       "\n",
       "                 Category   Reviews                Size    Installs  Type  \\\n",
       "152   BOOKS_AND_REFERENCE   1433233  Varies with device  1000000000  Free   \n",
       "335         COMMUNICATION  56642847  Varies with device  1000000000  Free   \n",
       "336         COMMUNICATION  69119316  Varies with device  1000000000  Free   \n",
       "338         COMMUNICATION   9642995  Varies with device  1000000000  Free   \n",
       "340         COMMUNICATION   4604324  Varies with device  1000000000  Free   \n",
       "...                   ...       ...                 ...         ...   ...   \n",
       "5395          PHOTOGRAPHY  10847682  Varies with device  1000000000  Free   \n",
       "5596   HEALTH_AND_FITNESS    480208                 70M   500000000  Free   \n",
       "5856               FAMILY   7168735  Varies with device  1000000000  Free   \n",
       "7536                TOOLS  24900999  Varies with device   500000000  Free   \n",
       "9844   NEWS_AND_MAGAZINES    878065                 13M  1000000000  Free   \n",
       "\n",
       "      Price Content_Rating             Genres Last_Updated  \\\n",
       "152     0.0           Teen  Books & Reference    03-Aug-18   \n",
       "335     0.0       Everyone      Communication    01-Aug-18   \n",
       "336     0.0       Everyone      Communication    03-Aug-18   \n",
       "338     0.0       Everyone      Communication    01-Aug-18   \n",
       "340     0.0       Everyone      Communication    02-Aug-18   \n",
       "...     ...            ...                ...          ...   \n",
       "5395    0.0       Everyone        Photography    01-Aug-18   \n",
       "5596    0.0       Everyone   Health & Fitness    31-Jul-18   \n",
       "5856    0.0           Teen      Entertainment    16-Jul-18   \n",
       "7536    0.0       Everyone              Tools    04-Aug-18   \n",
       "9844    0.0           Teen   News & Magazines    01-Aug-18   \n",
       "\n",
       "             Current_Ver         Android_Ver  \n",
       "152   Varies with device  Varies with device  \n",
       "335   Varies with device  Varies with device  \n",
       "336   Varies with device  Varies with device  \n",
       "338   Varies with device  Varies with device  \n",
       "340   Varies with device  Varies with device  \n",
       "...                  ...                 ...  \n",
       "5395  Varies with device  Varies with device  \n",
       "5596          5.17.2.009          5.0 and up  \n",
       "5856  Varies with device  Varies with device  \n",
       "7536               4.6.6  Varies with device  \n",
       "9844               5.2.0          4.4 and up  \n",
       "\n",
       "[130 rows x 13 columns]"
      ]
     },
     "execution_count": 226,
     "metadata": {},
     "output_type": "execute_result"
    }
   ],
   "source": [
    "df[df['Installs']>df['Installs'].quantile(0.95)]\n"
   ]
  },
  {
   "cell_type": "code",
   "execution_count": 227,
   "id": "36c4a95a",
   "metadata": {},
   "outputs": [
    {
     "data": {
      "text/plain": [
       "Int64Index([ 152,  335,  336,  338,  340,  341,  342,  347,  371,  378,\n",
       "            ...\n",
       "            4222, 4234, 4365, 4566, 4676, 5395, 5596, 5856, 7536, 9844],\n",
       "           dtype='int64', length=130)"
      ]
     },
     "execution_count": 227,
     "metadata": {},
     "output_type": "execute_result"
    }
   ],
   "source": [
    "df[df['Installs']>df['Installs'].quantile(0.95)].index"
   ]
  },
  {
   "cell_type": "code",
   "execution_count": 228,
   "id": "802c2c06",
   "metadata": {},
   "outputs": [],
   "source": [
    "# here dropping all the values which are more than 95th percentile \n",
    "df.drop(index=df[df['Installs']>df['Installs'].quantile(0.95)].index,inplace=True)"
   ]
  },
  {
   "cell_type": "markdown",
   "id": "a643a84f",
   "metadata": {},
   "source": [
    "Here, we have droped all the Installs Values which are more than 95th percentile"
   ]
  },
  {
   "cell_type": "markdown",
   "id": "f4600400",
   "metadata": {},
   "source": [
    "# Data analysis to answer business questions"
   ]
  },
  {
   "cell_type": "markdown",
   "id": "78f05d51",
   "metadata": {},
   "source": [
    "# 5. What is the distribution of ratings like? (use Seaborn) More skewed towards higher/lower values?"
   ]
  },
  {
   "cell_type": "code",
   "execution_count": 229,
   "id": "ce7c3ae3",
   "metadata": {},
   "outputs": [
    {
     "name": "stderr",
     "output_type": "stream",
     "text": [
      "C:\\Users\\hy\\AppData\\Local\\Temp\\ipykernel_1116\\2919852989.py:1: UserWarning: \n",
      "\n",
      "`distplot` is a deprecated function and will be removed in seaborn v0.14.0.\n",
      "\n",
      "Please adapt your code to use either `displot` (a figure-level function with\n",
      "similar flexibility) or `histplot` (an axes-level function for histograms).\n",
      "\n",
      "For a guide to updating your code to use the new functions, please see\n",
      "https://gist.github.com/mwaskom/de44147ed2974457ad6372750bbe5751\n",
      "\n",
      "  sns.distplot(df.Rating)\n"
     ]
    },
    {
     "data": {
      "image/png": "[encoded data removed]",
      "text/plain": [
       "<Figure size 640x480 with 1 Axes>"
      ]
     },
     "metadata": {},
     "output_type": "display_data"
    }
   ],
   "source": [
    "sns.distplot(df.Rating)\n",
    "plt.show()"
   ]
  },
  {
   "cell_type": "code",
   "execution_count": 230,
   "id": "38f9aaab",
   "metadata": {},
   "outputs": [
    {
     "data": {
      "text/plain": [
       "-1.8416513505231236"
      ]
     },
     "execution_count": 230,
     "metadata": {},
     "output_type": "execute_result"
    }
   ],
   "source": [
    "# finding the skewed value for a Rating column\n",
    "df['Rating'].skew()"
   ]
  },
  {
   "cell_type": "markdown",
   "id": "f9fd18f0",
   "metadata": {},
   "source": [
    "# a. How do you explain this?"
   ]
  },
  {
   "cell_type": "markdown",
   "id": "ffc4b31c",
   "metadata": {},
   "source": [
    "So, from the above plot we can see that the skewed value is at the left side which is negative, so we can say that the given column or the given plot is left skewed"
   ]
  },
  {
   "cell_type": "markdown",
   "id": "d074540d",
   "metadata": {},
   "source": [
    "# b. What is the implication of this on your analysis?"
   ]
  },
  {
   "cell_type": "markdown",
   "id": "40c85da1",
   "metadata": {},
   "source": [
    "If we have more data then generally there is skewed value present in that dataset.And if there is too many skewed values present in the dataset that is too much skewness present in the coloumn then whatever the model we have, it does't work properly (Statistical Model) So, if we have skewness data and if it's at the right side then it is right skewed data and if the skewness is at the left side then it is left skewed data that is ther are negative values So, to overcome from this and to get the right output from the analysis we can remove this skewness and we can convert it into the bell curve that is the mean is at the centre"
   ]
  },
  {
   "cell_type": "markdown",
   "id": "bb59a700",
   "metadata": {},
   "source": [
    "# 6. What are the top Content Rating values?"
   ]
  },
  {
   "cell_type": "code",
   "execution_count": 231,
   "id": "ae0158b5",
   "metadata": {},
   "outputs": [
    {
     "data": {
      "text/plain": [
       "Everyone           7309\n",
       "Teen               1055\n",
       "Mature 17+          458\n",
       "Everyone 10+        388\n",
       "Adults only 18+       3\n",
       "Unrated               1\n",
       "Name: Content_Rating, dtype: int64"
      ]
     },
     "execution_count": 231,
     "metadata": {},
     "output_type": "execute_result"
    }
   ],
   "source": [
    "df['Content_Rating'].value_counts()"
   ]
  },
  {
   "cell_type": "markdown",
   "id": "20d1086f",
   "metadata": {},
   "source": [
    "# a. Are there any values with very few records?"
   ]
  },
  {
   "cell_type": "code",
   "execution_count": 232,
   "id": "df96bee1",
   "metadata": {},
   "outputs": [
    {
     "data": {
      "text/plain": [
       "Everyone           7309\n",
       "Teen               1055\n",
       "Mature 17+          458\n",
       "Everyone 10+        388\n",
       "Adults only 18+       3\n",
       "Unrated               1\n",
       "Name: Content_Rating, dtype: int64"
      ]
     },
     "execution_count": 232,
     "metadata": {},
     "output_type": "execute_result"
    }
   ],
   "source": [
    "df['Content_Rating'].value_counts()"
   ]
  },
  {
   "cell_type": "markdown",
   "id": "f10343f3",
   "metadata": {},
   "source": [
    "So, after analysis we found that an Adults only 18+ and Unrated have very few records that is 3 and 1 respectively"
   ]
  },
  {
   "cell_type": "markdown",
   "id": "07a44d88",
   "metadata": {},
   "source": [
    "# b. If yes, drop those as they won’t help in the analysis"
   ]
  },
  {
   "cell_type": "code",
   "execution_count": 233,
   "id": "31d7f011",
   "metadata": {},
   "outputs": [
    {
     "data": {
      "text/plain": [
       "Int64Index([8266], dtype='int64')"
      ]
     },
     "execution_count": 233,
     "metadata": {},
     "output_type": "execute_result"
    }
   ],
   "source": [
    "# finding the Unrated value in the contect rating column\n",
    "df[df['Content_Rating']=='Unrated'].index"
   ]
  },
  {
   "cell_type": "code",
   "execution_count": 234,
   "id": "c4443380",
   "metadata": {},
   "outputs": [
    {
     "data": {
      "text/plain": [
       "Int64Index([298, 3043, 6424], dtype='int64')"
      ]
     },
     "execution_count": 234,
     "metadata": {},
     "output_type": "execute_result"
    }
   ],
   "source": [
    "# finding the Adults only 18+ value in the contect rating column\n",
    "df[df['Content_Rating']=='Adults only 18+'].index"
   ]
  },
  {
   "cell_type": "code",
   "execution_count": 235,
   "id": "2220de1c",
   "metadata": {},
   "outputs": [],
   "source": [
    "# droping all the values in the given column with given records\n",
    "df.drop(index=df[df['Content_Rating']=='Unrated'].index, inplace=True)\n",
    "df.drop(index=df[df['Content_Rating']=='Adults only 18+'].index,inplace=True)"
   ]
  },
  {
   "cell_type": "code",
   "execution_count": 236,
   "id": "f4c6b6eb",
   "metadata": {},
   "outputs": [
    {
     "data": {
      "text/plain": [
       "Everyone        7309\n",
       "Teen            1055\n",
       "Mature 17+       458\n",
       "Everyone 10+     388\n",
       "Name: Content_Rating, dtype: int64"
      ]
     },
     "execution_count": 236,
     "metadata": {},
     "output_type": "execute_result"
    }
   ],
   "source": [
    "df['Content_Rating'].value_counts()"
   ]
  },
  {
   "cell_type": "markdown",
   "id": "903c58b7",
   "metadata": {},
   "source": [
    "So, after the operations we found that, the given data doesn't have any value in the Content Rating column with Unrated and Adults only 18+"
   ]
  },
  {
   "cell_type": "markdown",
   "id": "2a0b3892",
   "metadata": {},
   "source": [
    "# 7. Effect of size on rating"
   ]
  },
  {
   "cell_type": "markdown",
   "id": "32279879",
   "metadata": {},
   "source": [
    "# a. Make a joinplot to understand the effect of size on rating"
   ]
  },
  {
   "cell_type": "code",
   "execution_count": 262,
   "id": "5d81af9f",
   "metadata": {},
   "outputs": [
    {
     "data": {
      "image/png": "[encoded data removed]",
      "text/plain": [
       "<Figure size 600x600 with 3 Axes>"
      ]
     },
     "metadata": {},
     "output_type": "display_data"
    }
   ],
   "source": [
    "sns.jointplot(x='Size',y='Rating',data=df, space=1)\n",
    "plt.show()"
   ]
  },
  {
   "cell_type": "markdown",
   "id": "57b282db",
   "metadata": {},
   "source": [
    "# b. Do you see any patterns?"
   ]
  },
  {
   "cell_type": "markdown",
   "id": "623e4a12",
   "metadata": {},
   "source": [
    "Yes, from the given plot, we can say that there is correlation between Size and Rating"
   ]
  },
  {
   "cell_type": "markdown",
   "id": "61e6ef7f",
   "metadata": {},
   "source": [
    "# c. How do you explain the pattern?"
   ]
  },
  {
   "cell_type": "markdown",
   "id": "86deb607",
   "metadata": {},
   "source": [
    "From the given plot, we can see that, on increase in the Rating, the size also increases and there is positive correlation between Size and Rating"
   ]
  },
  {
   "cell_type": "markdown",
   "id": "dfc6c504",
   "metadata": {},
   "source": [
    "# 8. Effect of price on rating"
   ]
  },
  {
   "cell_type": "markdown",
   "id": "98020cec",
   "metadata": {},
   "source": [
    "# a. Make a jointplot (with regression line)"
   ]
  },
  {
   "cell_type": "code",
   "execution_count": 243,
   "id": "43cc9207",
   "metadata": {},
   "outputs": [
    {
     "data": {
      "image/png": "[encoded data removed]",
      "text/plain": [
       "<Figure size 600x600 with 3 Axes>"
      ]
     },
     "metadata": {},
     "output_type": "display_data"
    }
   ],
   "source": [
    "sns.jointplot(x='Price',y='Rating',data=df, kind='reg')\n",
    "plt.show()"
   ]
  },
  {
   "cell_type": "markdown",
   "id": "63701b99",
   "metadata": {},
   "source": [
    "# b. What pattern do you see?"
   ]
  },
  {
   "cell_type": "markdown",
   "id": "19b08ad3",
   "metadata": {},
   "source": [
    "From the given plot, we can say that, on increase in the Price, the Rating remains constant which is greater than 4"
   ]
  },
  {
   "cell_type": "markdown",
   "id": "3faac164",
   "metadata": {},
   "source": [
    "# c. How do you explain the pattern?"
   ]
  },
  {
   "cell_type": "markdown",
   "id": "eff4358e",
   "metadata": {},
   "source": [
    "So, here as on increase in price the rating remains constant which greater than 4 so we can say that, there is weak positive correlation between Rating and Price"
   ]
  },
  {
   "cell_type": "markdown",
   "id": "9d946524",
   "metadata": {},
   "source": [
    "# d. Replot the data, this time with only records with price > 0"
   ]
  },
  {
   "cell_type": "code",
   "execution_count": 245,
   "id": "2f981169",
   "metadata": {},
   "outputs": [
    {
     "data": {
      "text/html": [
       "<div>\n",
       "<style scoped>\n",
       "    .dataframe tbody tr th:only-of-type {\n",
       "        vertical-align: middle;\n",
       "    }\n",
       "\n",
       "    .dataframe tbody tr th {\n",
       "        vertical-align: top;\n",
       "    }\n",
       "\n",
       "    .dataframe thead th {\n",
       "        text-align: right;\n",
       "    }\n",
       "</style>\n",
       "<table border=\"1\" class=\"dataframe\">\n",
       "  <thead>\n",
       "    <tr style=\"text-align: right;\">\n",
       "      <th></th>\n",
       "      <th>Rating</th>\n",
       "      <th>App</th>\n",
       "      <th>Category</th>\n",
       "      <th>Reviews</th>\n",
       "      <th>Size</th>\n",
       "      <th>Installs</th>\n",
       "      <th>Type</th>\n",
       "      <th>Price</th>\n",
       "      <th>Content_Rating</th>\n",
       "      <th>Genres</th>\n",
       "      <th>Last_Updated</th>\n",
       "      <th>Current_Ver</th>\n",
       "      <th>Android_Ver</th>\n",
       "    </tr>\n",
       "  </thead>\n",
       "  <tbody>\n",
       "    <tr>\n",
       "      <th>234</th>\n",
       "      <td>4.7</td>\n",
       "      <td>TurboScan: scan documents and receipts in PDF</td>\n",
       "      <td>BUSINESS</td>\n",
       "      <td>11442</td>\n",
       "      <td>6.8M</td>\n",
       "      <td>100000</td>\n",
       "      <td>Paid</td>\n",
       "      <td>4.99</td>\n",
       "      <td>Everyone</td>\n",
       "      <td>Business</td>\n",
       "      <td>25-Mar-18</td>\n",
       "      <td>1.5.2</td>\n",
       "      <td>4.0 and up</td>\n",
       "    </tr>\n",
       "    <tr>\n",
       "      <th>235</th>\n",
       "      <td>4.8</td>\n",
       "      <td>Tiny Scanner Pro: PDF Doc Scan</td>\n",
       "      <td>BUSINESS</td>\n",
       "      <td>10295</td>\n",
       "      <td>39M</td>\n",
       "      <td>100000</td>\n",
       "      <td>Paid</td>\n",
       "      <td>4.99</td>\n",
       "      <td>Everyone</td>\n",
       "      <td>Business</td>\n",
       "      <td>11-Apr-17</td>\n",
       "      <td>3.4.6</td>\n",
       "      <td>3.0 and up</td>\n",
       "    </tr>\n",
       "    <tr>\n",
       "      <th>290</th>\n",
       "      <td>4.7</td>\n",
       "      <td>TurboScan: scan documents and receipts in PDF</td>\n",
       "      <td>BUSINESS</td>\n",
       "      <td>11442</td>\n",
       "      <td>6.8M</td>\n",
       "      <td>100000</td>\n",
       "      <td>Paid</td>\n",
       "      <td>4.99</td>\n",
       "      <td>Everyone</td>\n",
       "      <td>Business</td>\n",
       "      <td>25-Mar-18</td>\n",
       "      <td>1.5.2</td>\n",
       "      <td>4.0 and up</td>\n",
       "    </tr>\n",
       "    <tr>\n",
       "      <th>291</th>\n",
       "      <td>4.8</td>\n",
       "      <td>Tiny Scanner Pro: PDF Doc Scan</td>\n",
       "      <td>BUSINESS</td>\n",
       "      <td>10295</td>\n",
       "      <td>39M</td>\n",
       "      <td>100000</td>\n",
       "      <td>Paid</td>\n",
       "      <td>4.99</td>\n",
       "      <td>Everyone</td>\n",
       "      <td>Business</td>\n",
       "      <td>11-Apr-17</td>\n",
       "      <td>3.4.6</td>\n",
       "      <td>3.0 and up</td>\n",
       "    </tr>\n",
       "    <tr>\n",
       "      <th>427</th>\n",
       "      <td>4.0</td>\n",
       "      <td>Puffin Browser Pro</td>\n",
       "      <td>COMMUNICATION</td>\n",
       "      <td>18247</td>\n",
       "      <td>Varies with device</td>\n",
       "      <td>100000</td>\n",
       "      <td>Paid</td>\n",
       "      <td>3.99</td>\n",
       "      <td>Everyone</td>\n",
       "      <td>Communication</td>\n",
       "      <td>05-Jul-18</td>\n",
       "      <td>7.5.3.20547</td>\n",
       "      <td>4.1 and up</td>\n",
       "    </tr>\n",
       "    <tr>\n",
       "      <th>...</th>\n",
       "      <td>...</td>\n",
       "      <td>...</td>\n",
       "      <td>...</td>\n",
       "      <td>...</td>\n",
       "      <td>...</td>\n",
       "      <td>...</td>\n",
       "      <td>...</td>\n",
       "      <td>...</td>\n",
       "      <td>...</td>\n",
       "      <td>...</td>\n",
       "      <td>...</td>\n",
       "      <td>...</td>\n",
       "      <td>...</td>\n",
       "    </tr>\n",
       "    <tr>\n",
       "      <th>10681</th>\n",
       "      <td>4.3</td>\n",
       "      <td>Fruit Ninja Classic</td>\n",
       "      <td>GAME</td>\n",
       "      <td>85468</td>\n",
       "      <td>36M</td>\n",
       "      <td>1000000</td>\n",
       "      <td>Paid</td>\n",
       "      <td>0.99</td>\n",
       "      <td>Everyone</td>\n",
       "      <td>Arcade</td>\n",
       "      <td>08-Jun-18</td>\n",
       "      <td>2.4.1.485300</td>\n",
       "      <td>4.0.3 and up</td>\n",
       "    </tr>\n",
       "    <tr>\n",
       "      <th>10689</th>\n",
       "      <td>5.0</td>\n",
       "      <td>FO Bixby</td>\n",
       "      <td>PERSONALIZATION</td>\n",
       "      <td>5</td>\n",
       "      <td>861k</td>\n",
       "      <td>100</td>\n",
       "      <td>Paid</td>\n",
       "      <td>0.99</td>\n",
       "      <td>Everyone</td>\n",
       "      <td>Personalization</td>\n",
       "      <td>25-Apr-18</td>\n",
       "      <td>0.2</td>\n",
       "      <td>7.0 and up</td>\n",
       "    </tr>\n",
       "    <tr>\n",
       "      <th>10759</th>\n",
       "      <td>4.4</td>\n",
       "      <td>Fast Tract Diet</td>\n",
       "      <td>HEALTH_AND_FITNESS</td>\n",
       "      <td>35</td>\n",
       "      <td>2.4M</td>\n",
       "      <td>1000</td>\n",
       "      <td>Paid</td>\n",
       "      <td>7.99</td>\n",
       "      <td>Everyone</td>\n",
       "      <td>Health &amp; Fitness</td>\n",
       "      <td>08-Aug-18</td>\n",
       "      <td>1.9.3</td>\n",
       "      <td>4.2 and up</td>\n",
       "    </tr>\n",
       "    <tr>\n",
       "      <th>10781</th>\n",
       "      <td>3.8</td>\n",
       "      <td>Trine 2: Complete Story</td>\n",
       "      <td>GAME</td>\n",
       "      <td>252</td>\n",
       "      <td>11M</td>\n",
       "      <td>10000</td>\n",
       "      <td>Paid</td>\n",
       "      <td>16.99</td>\n",
       "      <td>Teen</td>\n",
       "      <td>Action</td>\n",
       "      <td>27-Feb-15</td>\n",
       "      <td>2.22</td>\n",
       "      <td>5.0 and up</td>\n",
       "    </tr>\n",
       "    <tr>\n",
       "      <th>10784</th>\n",
       "      <td>4.2</td>\n",
       "      <td>sugar, sugar</td>\n",
       "      <td>FAMILY</td>\n",
       "      <td>1405</td>\n",
       "      <td>9.5M</td>\n",
       "      <td>10000</td>\n",
       "      <td>Paid</td>\n",
       "      <td>1.20</td>\n",
       "      <td>Everyone</td>\n",
       "      <td>Puzzle</td>\n",
       "      <td>05-Jun-18</td>\n",
       "      <td>2.7</td>\n",
       "      <td>2.3 and up</td>\n",
       "    </tr>\n",
       "  </tbody>\n",
       "</table>\n",
       "<p>629 rows × 13 columns</p>\n",
       "</div>"
      ],
      "text/plain": [
       "       Rating                                            App  \\\n",
       "234       4.7  TurboScan: scan documents and receipts in PDF   \n",
       "235       4.8                 Tiny Scanner Pro: PDF Doc Scan   \n",
       "290       4.7  TurboScan: scan documents and receipts in PDF   \n",
       "291       4.8                 Tiny Scanner Pro: PDF Doc Scan   \n",
       "427       4.0                             Puffin Browser Pro   \n",
       "...       ...                                            ...   \n",
       "10681     4.3                            Fruit Ninja Classic   \n",
       "10689     5.0                                       FO Bixby   \n",
       "10759     4.4                                Fast Tract Diet   \n",
       "10781     3.8                        Trine 2: Complete Story   \n",
       "10784     4.2                                   sugar, sugar   \n",
       "\n",
       "                 Category  Reviews                Size  Installs  Type  Price  \\\n",
       "234              BUSINESS    11442                6.8M    100000  Paid   4.99   \n",
       "235              BUSINESS    10295                 39M    100000  Paid   4.99   \n",
       "290              BUSINESS    11442                6.8M    100000  Paid   4.99   \n",
       "291              BUSINESS    10295                 39M    100000  Paid   4.99   \n",
       "427         COMMUNICATION    18247  Varies with device    100000  Paid   3.99   \n",
       "...                   ...      ...                 ...       ...   ...    ...   \n",
       "10681                GAME    85468                 36M   1000000  Paid   0.99   \n",
       "10689     PERSONALIZATION        5                861k       100  Paid   0.99   \n",
       "10759  HEALTH_AND_FITNESS       35                2.4M      1000  Paid   7.99   \n",
       "10781                GAME      252                 11M     10000  Paid  16.99   \n",
       "10784              FAMILY     1405                9.5M     10000  Paid   1.20   \n",
       "\n",
       "      Content_Rating            Genres Last_Updated   Current_Ver  \\\n",
       "234         Everyone          Business    25-Mar-18         1.5.2   \n",
       "235         Everyone          Business    11-Apr-17         3.4.6   \n",
       "290         Everyone          Business    25-Mar-18         1.5.2   \n",
       "291         Everyone          Business    11-Apr-17         3.4.6   \n",
       "427         Everyone     Communication    05-Jul-18   7.5.3.20547   \n",
       "...              ...               ...          ...           ...   \n",
       "10681       Everyone            Arcade    08-Jun-18  2.4.1.485300   \n",
       "10689       Everyone   Personalization    25-Apr-18           0.2   \n",
       "10759       Everyone  Health & Fitness    08-Aug-18         1.9.3   \n",
       "10781           Teen            Action    27-Feb-15          2.22   \n",
       "10784       Everyone            Puzzle    05-Jun-18           2.7   \n",
       "\n",
       "        Android_Ver  \n",
       "234      4.0 and up  \n",
       "235      3.0 and up  \n",
       "290      4.0 and up  \n",
       "291      3.0 and up  \n",
       "427      4.1 and up  \n",
       "...             ...  \n",
       "10681  4.0.3 and up  \n",
       "10689    7.0 and up  \n",
       "10759    4.2 and up  \n",
       "10781    5.0 and up  \n",
       "10784    2.3 and up  \n",
       "\n",
       "[629 rows x 13 columns]"
      ]
     },
     "execution_count": 245,
     "metadata": {},
     "output_type": "execute_result"
    }
   ],
   "source": [
    "greatervalue=df[df['Price']>0]\n",
    "greatervalue"
   ]
  },
  {
   "cell_type": "code",
   "execution_count": 246,
   "id": "c36327f2",
   "metadata": {},
   "outputs": [
    {
     "data": {
      "image/png": "[encoded data removed]",
      "text/plain": [
       "<Figure size 600x600 with 3 Axes>"
      ]
     },
     "metadata": {},
     "output_type": "display_data"
    }
   ],
   "source": [
    "sns.jointplot(x='Price',y='Rating',data=greatervalue, kind='reg')\n",
    "plt.show()"
   ]
  },
  {
   "cell_type": "markdown",
   "id": "bb899801",
   "metadata": {},
   "source": [
    "# e. Does the pattern change?"
   ]
  },
  {
   "cell_type": "markdown",
   "id": "b0da3841",
   "metadata": {},
   "source": [
    "Yes, the pattern has changed as we have given the condition to the data as Price>0 so we can say that there is negative correlation between Price and Rating"
   ]
  },
  {
   "cell_type": "markdown",
   "id": "5fe40fe0",
   "metadata": {},
   "source": [
    "# f. What is your overall inference on the effect of price on the rating"
   ]
  },
  {
   "cell_type": "markdown",
   "id": "89f51c53",
   "metadata": {},
   "source": [
    "So, from this we can say that, on increase in the price, it doesn't have any effect on the higher rating and the rating is almost constant which is 4"
   ]
  },
  {
   "cell_type": "markdown",
   "id": "594aa288",
   "metadata": {},
   "source": [
    "# 9. Look at all the numeric interactions together –"
   ]
  },
  {
   "cell_type": "markdown",
   "id": "7f18a3b4",
   "metadata": {},
   "source": [
    "# a. Make a pairplort with the colulmns - 'Reviews', 'Rating', 'Price'"
   ]
  },
  {
   "cell_type": "code",
   "execution_count": 263,
   "id": "aa94dd20",
   "metadata": {},
   "outputs": [
    {
     "data": {
      "image/png": "[encoded data removed]",
      "text/plain": [
       "<Figure size 750x750 with 12 Axes>"
      ]
     },
     "metadata": {},
     "output_type": "display_data"
    }
   ],
   "source": [
    "sns.pairplot(df,vars=['Reviews','Rating','Price'])\n",
    "plt.show()"
   ]
  },
  {
   "cell_type": "markdown",
   "id": "2858cee1",
   "metadata": {},
   "source": [
    "# 10. Rating vs. content rating"
   ]
  },
  {
   "cell_type": "markdown",
   "id": "c375c3fa",
   "metadata": {},
   "source": [
    "# a. Make a bar plot displaying the rating for each content rating"
   ]
  },
  {
   "cell_type": "code",
   "execution_count": 264,
   "id": "e0f4ed41",
   "metadata": {},
   "outputs": [
    {
     "data": {
      "image/png": "[encoded data removed]",
      "text/plain": [
       "<Figure size 640x480 with 1 Axes>"
      ]
     },
     "metadata": {},
     "output_type": "display_data"
    }
   ],
   "source": [
    "df.groupby(['Content_Rating'])['Rating'].count().plot.bar(color='orange')\n",
    "plt.show()"
   ]
  },
  {
   "cell_type": "markdown",
   "id": "b2468a61",
   "metadata": {},
   "source": [
    "# b. Which metric would you use? Mean? Median? Some other quantile?"
   ]
  },
  {
   "cell_type": "markdown",
   "id": "bd6459d8",
   "metadata": {},
   "source": [
    "Here, we will use Median as we have outlier in the Rating. And, Median is the best measure of central tendency to overcome\n",
    "the outlier"
   ]
  },
  {
   "attachments": {},
   "cell_type": "markdown",
   "id": "bfa264c7",
   "metadata": {},
   "source": [
    "# After Analysis we have came to the below findings which are:-\n",
    "1) Most of the ratings of apps are between 3 to 5\n",
    "2) there is correlation between Size and Rating \n",
    "3) we can say that there is negative correlation between Price and Rating"
   ]
  }
 ],
 "metadata": {
  "kernelspec": {
   "display_name": "Python 3",
   "language": "python",
   "name": "python3"
  },
  "language_info": {
   "codemirror_mode": {
    "name": "ipython",
    "version": 3
   },
   "file_extension": ".py",
   "mimetype": "text/x-python",
   "name": "python",
   "nbconvert_exporter": "python",
   "pygments_lexer": "ipython3",
   "version": "3.8.8"
  }
 },
 "nbformat": 4,
 "nbformat_minor": 5
}
